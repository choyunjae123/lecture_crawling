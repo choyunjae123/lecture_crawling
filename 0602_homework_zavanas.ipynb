{
 "cells": [
  {
   "cell_type": "code",
   "execution_count": 2,
   "id": "061c7766",
   "metadata": {},
   "outputs": [
    {
     "name": "stdout",
     "output_type": "stream",
     "text": [
      "Requirement already satisfied: pandas in c:\\users\\administrator\\appdata\\local\\programs\\python\\python38\\lib\\site-packages (2.0.2)\n",
      "Requirement already satisfied: python-dateutil>=2.8.2 in c:\\users\\administrator\\appdata\\roaming\\python\\python38\\site-packages (from pandas) (2.8.2)\n",
      "Requirement already satisfied: pytz>=2020.1 in c:\\users\\administrator\\appdata\\local\\programs\\python\\python38\\lib\\site-packages (from pandas) (2023.3)\n",
      "Requirement already satisfied: tzdata>=2022.1 in c:\\users\\administrator\\appdata\\local\\programs\\python\\python38\\lib\\site-packages (from pandas) (2023.3)\n",
      "Requirement already satisfied: numpy>=1.20.3 in c:\\users\\administrator\\appdata\\local\\programs\\python\\python38\\lib\\site-packages (from pandas) (1.24.3)\n",
      "Requirement already satisfied: six>=1.5 in c:\\users\\administrator\\appdata\\roaming\\python\\python38\\site-packages (from python-dateutil>=2.8.2->pandas) (1.16.0)\n",
      "Requirement already satisfied: openpyxl in c:\\users\\administrator\\appdata\\local\\programs\\python\\python38\\lib\\site-packages (3.1.2)\n",
      "Requirement already satisfied: et-xmlfile in c:\\users\\administrator\\appdata\\local\\programs\\python\\python38\\lib\\site-packages (from openpyxl) (1.1.0)\n",
      "Requirement already satisfied: selenium in c:\\users\\administrator\\appdata\\local\\programs\\python\\python38\\lib\\site-packages (4.9.1)\n",
      "Requirement already satisfied: urllib3[socks]<3,>=1.26 in c:\\users\\administrator\\appdata\\local\\programs\\python\\python38\\lib\\site-packages (from selenium) (2.0.2)\n",
      "Requirement already satisfied: trio~=0.17 in c:\\users\\administrator\\appdata\\local\\programs\\python\\python38\\lib\\site-packages (from selenium) (0.22.0)\n",
      "Requirement already satisfied: trio-websocket~=0.9 in c:\\users\\administrator\\appdata\\local\\programs\\python\\python38\\lib\\site-packages (from selenium) (0.10.2)\n",
      "Requirement already satisfied: certifi>=2021.10.8 in c:\\users\\administrator\\appdata\\local\\programs\\python\\python38\\lib\\site-packages (from selenium) (2023.5.7)\n",
      "Requirement already satisfied: attrs>=19.2.0 in c:\\users\\administrator\\appdata\\local\\programs\\python\\python38\\lib\\site-packages (from trio~=0.17->selenium) (23.1.0)\n",
      "Requirement already satisfied: sortedcontainers in c:\\users\\administrator\\appdata\\local\\programs\\python\\python38\\lib\\site-packages (from trio~=0.17->selenium) (2.4.0)\n",
      "Requirement already satisfied: async-generator>=1.9 in c:\\users\\administrator\\appdata\\local\\programs\\python\\python38\\lib\\site-packages (from trio~=0.17->selenium) (1.10)\n",
      "Requirement already satisfied: idna in c:\\users\\administrator\\appdata\\local\\programs\\python\\python38\\lib\\site-packages (from trio~=0.17->selenium) (3.4)\n",
      "Requirement already satisfied: outcome in c:\\users\\administrator\\appdata\\local\\programs\\python\\python38\\lib\\site-packages (from trio~=0.17->selenium) (1.2.0)\n",
      "Requirement already satisfied: sniffio in c:\\users\\administrator\\appdata\\local\\programs\\python\\python38\\lib\\site-packages (from trio~=0.17->selenium) (1.3.0)\n",
      "Requirement already satisfied: cffi>=1.14 in c:\\users\\administrator\\appdata\\local\\programs\\python\\python38\\lib\\site-packages (from trio~=0.17->selenium) (1.15.1)\n",
      "Requirement already satisfied: exceptiongroup>=1.0.0rc9 in c:\\users\\administrator\\appdata\\local\\programs\\python\\python38\\lib\\site-packages (from trio~=0.17->selenium) (1.1.1)\n",
      "Requirement already satisfied: wsproto>=0.14 in c:\\users\\administrator\\appdata\\local\\programs\\python\\python38\\lib\\site-packages (from trio-websocket~=0.9->selenium) (1.2.0)\n",
      "Requirement already satisfied: pysocks!=1.5.7,<2.0,>=1.5.6 in c:\\users\\administrator\\appdata\\local\\programs\\python\\python38\\lib\\site-packages (from urllib3[socks]<3,>=1.26->selenium) (1.7.1)\n",
      "Requirement already satisfied: pycparser in c:\\users\\administrator\\appdata\\local\\programs\\python\\python38\\lib\\site-packages (from cffi>=1.14->trio~=0.17->selenium) (2.21)\n",
      "Requirement already satisfied: h11<1,>=0.9.0 in c:\\users\\administrator\\appdata\\local\\programs\\python\\python38\\lib\\site-packages (from wsproto>=0.14->trio-websocket~=0.9->selenium) (0.14.0)\n",
      "Requirement already satisfied: chromedriver_autoinstaller in c:\\users\\administrator\\appdata\\local\\programs\\python\\python38\\lib\\site-packages (0.4.0)\n",
      "Requirement already satisfied: mysqlclient in c:\\users\\administrator\\appdata\\local\\programs\\python\\python38\\lib\\site-packages (2.1.1)\n"
     ]
    }
   ],
   "source": [
    "!pip install pandas\n",
    "!pip install openpyxl\n",
    "!pip install selenium\n",
    "!pip install chromedriver_autoinstaller\n",
    "!pip install mysqlclient"
   ]
  },
  {
   "cell_type": "code",
   "execution_count": 3,
   "id": "27f84513",
   "metadata": {},
   "outputs": [],
   "source": [
    "from selenium.webdriver.common.keys import Keys\n",
    "from selenium import webdriver\n",
    "import chromedriver_autoinstaller\n",
    "from selenium.webdriver.common.by import By\n",
    "import time\n",
    "import os\n",
    "from bs4 import BeautifulSoup\n",
    "import pandas as pd\n",
    "import openpyxl\n",
    "from urllib.request import Request, urlopen\n",
    "import MySQLdb\n",
    "import os\n",
    "import pathlib"
   ]
  },
  {
   "cell_type": "code",
   "execution_count": 4,
   "id": "f7c951d7",
   "metadata": {},
   "outputs": [],
   "source": [
    "class Shop:\n",
    "    def __init__(self):\n",
    "        self.db = None\n",
    "        \n",
    "    def connect(self):\n",
    "        self.db = MySQLdb.connect('localhost', 'root', '1234', 'kdt')\n",
    "        \n",
    "    def disconnect(self):\n",
    "        self.db.close()\n",
    "    \n",
    "    def table(self):\n",
    "        self.connect()\n",
    "        cur = self.db.cursor()\n",
    "        sql = \"\"\"\n",
    "        CREATE TABLE shop(\n",
    "        id INT PRIMARY KEY AUTO_INCREMENT,\n",
    "        name VARCHAR(255),\n",
    "        category VARCHAR(999),\n",
    "        path VARCHAR(999)\n",
    "        )\n",
    "        \"\"\"\n",
    "        try:\n",
    "            cur.execute(sql)\n",
    "        finally:\n",
    "            self.db.commit()\n",
    "            self.disconnect()\n",
    "            \n",
    "    def insert(self, name, category, path):\n",
    "        self.connect()\n",
    "        cur = self.db.cursor()\n",
    "        sql = \"INSERT INTO shop (name, category, path) values (%s, %s, %s)\"\n",
    "        \n",
    "        data = (name, category, path)\n",
    "        \n",
    "        result = cur.execute(sql, data)\n",
    "        self.db.commit()\n",
    "        self.disconnect()"
   ]
  },
  {
   "cell_type": "code",
   "execution_count": 5,
   "id": "b19dca40",
   "metadata": {},
   "outputs": [],
   "source": [
    "shop = Shop()"
   ]
  },
  {
   "cell_type": "code",
   "execution_count": 6,
   "id": "c5945dbb",
   "metadata": {},
   "outputs": [],
   "source": [
    "# 테이블 생성\n",
    "shop.table()"
   ]
  },
  {
   "cell_type": "code",
   "execution_count": 7,
   "id": "2c206a15",
   "metadata": {},
   "outputs": [],
   "source": [
    "driver = webdriver.Chrome()\n",
    "driver.implicitly_wait(3)\n",
    "url = 'https://zavanas.com/shop/shopbrand.html?type=X&xcode=021'\n",
    "driver.get(url)\n",
    "time.sleep(3)"
   ]
  },
  {
   "cell_type": "code",
   "execution_count": 23,
   "id": "c5747236",
   "metadata": {},
   "outputs": [
    {
     "name": "stdout",
     "output_type": "stream",
     "text": [
      "https://zavanas.com/shopimages/zavanas/0210060000333.jpg?1611737772\n",
      "https://zavanas.com/shopimages/zavanas/0210060000323.jpg?1634706804\n",
      "https://zavanas.com/shopimages/zavanas/0210060000313.jpg?1634706688\n",
      "https://zavanas.com/shopimages/zavanas/0210060000293.jpg?1634706402\n",
      "https://zavanas.com/shopimages/zavanas/0210060000273.jpg?1611653305\n",
      "https://zavanas.com/shopimages/zavanas/0210060000263.jpg?1611653254\n",
      "https://zavanas.com/shopimages/zavanas/0210060000233.jpg?1611631905\n",
      "https://zavanas.com/shopimages/zavanas/0210090000063.jpg?1629276914\n",
      "https://zavanas.com/shopimages/zavanas/0210090000053.jpg?1638420536\n",
      "https://zavanas.com/shopimages/zavanas/0210090000043.jpg?1629276775\n",
      "https://zavanas.com/shopimages/zavanas/0210090000023.jpg?1629272474\n",
      "https://zavanas.com/shopimages/zavanas/0210060000203.jpg?1609048185\n",
      "https://zavanas.com/shopimages/zavanas/0210060000193.jpg?1608214801\n",
      "https://zavanas.com/shopimages/zavanas/0210060000183.jpg?1636361466\n",
      "https://zavanas.com/shopimages/zavanas/0210060000163.jpg?1611735402\n",
      "https://zavanas.com/shopimages/zavanas/0210060000143.jpg?1608207996\n",
      "https://zavanas.com/shopimages/zavanas/0210060000123.jpg?1631861057\n",
      "https://zavanas.com/shopimages/zavanas/0210010000913.jpg?1629346386\n",
      "https://zavanas.com/shopimages/zavanas/0210010000903.jpg?1629347018\n",
      "https://zavanas.com/shopimages/zavanas/0210010000883.jpg?1639476231\n",
      "https://zavanas.com/shopimages/zavanas/0210010000873.jpg?1629346506\n",
      "https://zavanas.com/shopimages/zavanas/0210010000863.jpg?1629346625\n",
      "https://zavanas.com/shopimages/zavanas/0210050000473.jpg?1631673930\n",
      "https://zavanas.com/shopimages/zavanas/0210050000383.jpg?1630479352\n",
      "https://zavanas.com/shopimages/zavanas/0210050000373.jpg?1630479113\n",
      "https://zavanas.com/shopimages/zavanas/0210050000353.jpg?1670553484\n",
      "https://zavanas.com/shopimages/zavanas/0210050000323.jpg?1630478888\n",
      "https://zavanas.com/shopimages/zavanas/0210050000313.jpg?1630478764\n",
      "https://zavanas.com/shopimages/zavanas/0210050000303.jpg?1630052476\n",
      "https://zavanas.com/shopimages/zavanas/0210050000293.jpg?1630060698\n",
      "https://zavanas.com/shopimages/zavanas/0210050000283.jpg?1630060679\n",
      "https://zavanas.com/shopimages/zavanas/0210050000273.jpg?1630052455\n",
      "https://zavanas.com/shopimages/zavanas/0210050000263.jpg?1630475594\n",
      "https://zavanas.com/shopimages/zavanas/0210050000253.jpg?1630052434\n",
      "https://zavanas.com/shopimages/zavanas/0210050000223.jpg?1630475211\n",
      "https://zavanas.com/shopimages/zavanas/0210050000213.jpg?1630060596\n",
      "https://zavanas.com/shopimages/zavanas/0210050000203.jpg?1630474751\n",
      "https://zavanas.com/shopimages/zavanas/0210050000193.jpg?1630060645\n",
      "https://zavanas.com/shopimages/zavanas/0210050000183.jpg?1630061345\n",
      "https://zavanas.com/shopimages/zavanas/0210050000173.jpg?1630060572\n",
      "https://zavanas.com/shopimages/zavanas/0210050000163.jpg?1630060483\n",
      "https://zavanas.com/shopimages/zavanas/0210050000153.jpg?1630052389\n",
      "https://zavanas.com/shopimages/zavanas/0210050000143.jpg?1630052369\n",
      "https://zavanas.com/shopimages/zavanas/0210050000133.jpg?1630052347\n",
      "https://zavanas.com/shopimages/zavanas/0210050000523.jpg?1630052311\n",
      "https://zavanas.com/shopimages/zavanas/0210050000513.jpg?1630470535\n",
      "https://zavanas.com/shopimages/zavanas/0210050000503.jpg?1630470456\n",
      "https://zavanas.com/shopimages/zavanas/0210050000493.jpg?1630470397\n",
      "https://zavanas.com/shopimages/zavanas/0210050000483.jpg?1630470336\n",
      "https://zavanas.com/shopimages/zavanas/0210050000453.jpg?1630470273\n",
      "https://zavanas.com/shopimages/zavanas/0210050000343.jpg?1630470203\n",
      "https://zavanas.com/shopimages/zavanas/0210050000233.jpg?1610007997\n",
      "https://zavanas.com/shopimages/zavanas/0210050000013.jpg?1630469702\n",
      "https://zavanas.com/shopimages/zavanas/0210030000083.jpg?1584373223\n",
      "https://zavanas.com/shopimages/zavanas/0210010000753.jpg?1629967392\n",
      "https://zavanas.com/shopimages/zavanas/0210010000743.jpg?1633688175\n",
      "https://zavanas.com/shopimages/zavanas/0210010000723.jpg?1584521546\n",
      "https://zavanas.com/shopimages/zavanas/0210010000713.jpg?1629967471\n",
      "https://zavanas.com/shopimages/zavanas/0210010000693.jpg?1584513481\n",
      "https://zavanas.com/shopimages/zavanas/0210010000683.jpg?1583457808\n",
      "https://zavanas.com/shopimages/zavanas/0210010000633.jpg?1633688417\n",
      "https://zavanas.com/shopimages/zavanas/0210010000613.jpg?1583419240\n",
      "https://zavanas.com/shopimages/zavanas/0210010000603.jpg?1583416444\n",
      "https://zavanas.com/shopimages/zavanas/0210010000593.jpg?1583194968\n",
      "https://zavanas.com/shopimages/zavanas/0210010000533.jpg?1582644972\n",
      "https://zavanas.com/shopimages/zavanas/0210010000523.jpg?1582640419\n",
      "https://zavanas.com/shopimages/zavanas/0210010000483.jpg?1582161271\n",
      "https://zavanas.com/shopimages/zavanas/0210010000473.jpg?1582161213\n",
      "https://zavanas.com/shopimages/zavanas/0210010000433.jpg?1580984424\n",
      "https://zavanas.com/shopimages/zavanas/0210010000423.jpg?1580983020\n",
      "https://zavanas.com/shopimages/zavanas/0210010000413.jpg?1670467932\n",
      "https://zavanas.com/shopimages/zavanas/0210010000393.jpg?1580910898\n",
      "https://zavanas.com/shopimages/zavanas/0210010000383.jpg?1580968508\n",
      "https://zavanas.com/shopimages/zavanas/0210010000453.jpg?1580912092\n",
      "https://zavanas.com/shopimages/zavanas/0210010000333.jpg?1580229969\n",
      "https://zavanas.com/shopimages/zavanas/0210010000323.jpg?1629365705\n",
      "https://zavanas.com/shopimages/zavanas/0210010000303.jpg?1629365492\n",
      "https://zavanas.com/shopimages/zavanas/0210010000373.jpg?1580228037\n",
      "https://zavanas.com/shopimages/zavanas/0210010000293.jpg?1578299773\n",
      "https://zavanas.com/shopimages/zavanas/0210010000313.jpg?1629365628\n",
      "https://zavanas.com/shopimages/zavanas/0210010000283.jpg?1629365301\n",
      "https://zavanas.com/shopimages/zavanas/0210010000273.jpg?1580708188\n",
      "https://zavanas.com/shopimages/zavanas/0210010000263.jpg?1629364321\n",
      "https://zavanas.com/shopimages/zavanas/0210010000233.jpg?1629356883\n",
      "https://zavanas.com/shopimages/zavanas/0210010000223.jpg?1629356788\n",
      "https://zavanas.com/shopimages/zavanas/0210010000173.jpg?1629356084\n",
      "https://zavanas.com/shopimages/zavanas/0210060000023.jpg?1576137665\n",
      "https://zavanas.com/shopimages/zavanas/0210010000113.jpg?1576139421\n",
      "https://zavanas.com/shopimages/zavanas/0210010000103.jpg?1584627462\n",
      "https://zavanas.com/shopimages/zavanas/0210010000093.jpg?1574248995\n",
      "https://zavanas.com/shopimages/zavanas/0210010000073.jpg?1574247874\n",
      "https://zavanas.com/shopimages/zavanas/0210010000053.jpg?1629882145\n",
      "https://zavanas.com/shopimages/zavanas/0210010000043.jpg?1573722219\n",
      "https://zavanas.com/shopimages/zavanas/0210010000033.jpg?1573721792\n",
      "https://zavanas.com/shopimages/zavanas/0210010000893.jpg?1570957551\n",
      "https://zavanas.com/shopimages/zavanas/0210010000673.jpg?1570957350\n",
      "https://zavanas.com/shopimages/zavanas/0210010000353.jpg?1570444826\n",
      "https://zavanas.com/shopimages/zavanas/0210010000243.jpg?1570444629\n",
      "https://zavanas.com/shopimages/zavanas/0210010000023.jpg?1570444374\n",
      "https://zavanas.com/shopimages/zavanas/0210060000303.jpg?1634706584\n"
     ]
    }
   ],
   "source": [
    "# 파일 소스 빼오기\n",
    "image_area_xpath = '/html/body/div[3]/div[2]/div/div[3]/div/div/div[4]/ul'\n",
    "image_area = driver.find_element(By.XPATH, image_area_xpath)\n",
    "image_elements = image_area.find_elements(By.CSS_SELECTOR, '.thumbnail img')\n",
    "excluded_names = ['https://zavanas.com/design/zavanas/onedesign/images/icon_option_preview.png', 'https://zavanas.com/design/zavanas/onedesign/images/icon_preview.png']\n",
    "\n",
    "category_xpath = '/html/body/div[3]/div[2]/div/div[2]/div[1]/div[2]'\n",
    "category_element = driver.find_element(By.XPATH, category_xpath)\n",
    "category = category_element.text\n",
    "\n",
    "        \n",
    "image_urls = []\n",
    "\n",
    "for image_element in image_elements:\n",
    "    image_url = image_element.get_attribute('data-lazy-src')\n",
    "    if image_url is None:\n",
    "        image_url = image_element.get_attribute('src')\n",
    "    if image_url not in excluded_names:\n",
    "        image_urls.append(image_url)\n",
    "        print(image_url)"
   ]
  },
  {
   "cell_type": "code",
   "execution_count": 24,
   "id": "119a8ed7",
   "metadata": {},
   "outputs": [],
   "source": [
    "name = image_url.split('/')[-1].split('?')[0]\n",
    "path = f'./{category}/{name}'"
   ]
  },
  {
   "cell_type": "code",
   "execution_count": 25,
   "id": "3b1ddf08",
   "metadata": {},
   "outputs": [],
   "source": [
    "for i in range(len(image_urls)):\n",
    "    image_url = image_urls[i]\n",
    "    image_byte = Request(image_url, headers={'User-Agent':'Mozilla/5.0 (Windows NT 10.0; Win64; x64)'})\n",
    "    f = open(f'clothes{i}.jpg', 'wb')\n",
    "    f.write(urlopen(image_byte).read())\n",
    "    f.close()"
   ]
  },
  {
   "cell_type": "code",
   "execution_count": 26,
   "id": "8c81eac2",
   "metadata": {},
   "outputs": [],
   "source": [
    "shop.insert(name, category, path)"
   ]
  },
  {
   "cell_type": "code",
   "execution_count": 27,
   "id": "0f4d67ae",
   "metadata": {},
   "outputs": [
    {
     "ename": "NameError",
     "evalue": "name 'df' is not defined",
     "output_type": "error",
     "traceback": [
      "\u001b[1;31m---------------------------------------------------------------------------\u001b[0m",
      "\u001b[1;31mNameError\u001b[0m                                 Traceback (most recent call last)",
      "Cell \u001b[1;32mIn[27], line 1\u001b[0m\n\u001b[1;32m----> 1\u001b[0m \u001b[43mdf\u001b[49m\u001b[38;5;241m.\u001b[39mto_excel(\u001b[38;5;124m'\u001b[39m\u001b[38;5;124m0602_homework_zavanas.xlsx\u001b[39m\u001b[38;5;124m'\u001b[39m)\n",
      "\u001b[1;31mNameError\u001b[0m: name 'df' is not defined"
     ]
    }
   ],
   "source": [
    "df.to_excel('0602_homework_zavanas.xlsx')"
   ]
  }
 ],
 "metadata": {
  "kernelspec": {
   "display_name": "Python 3 (ipykernel)",
   "language": "python",
   "name": "python3"
  },
  "language_info": {
   "codemirror_mode": {
    "name": "ipython",
    "version": 3
   },
   "file_extension": ".py",
   "mimetype": "text/x-python",
   "name": "python",
   "nbconvert_exporter": "python",
   "pygments_lexer": "ipython3",
   "version": "3.8.0"
  }
 },
 "nbformat": 4,
 "nbformat_minor": 5
}
