{
 "cells": [
  {
   "cell_type": "markdown",
   "id": "bb85f1d0",
   "metadata": {},
   "source": [
    "픽사베이 공식 홈페이지:\n",
    "https://pixabay.com/ko/"
   ]
  },
  {
   "cell_type": "code",
   "execution_count": 76,
   "id": "6180f5b9",
   "metadata": {},
   "outputs": [],
   "source": [
    "import chromedriver_autoinstaller\n",
    "import time\n",
    "import os\n",
    "from selenium import webdriver\n",
    "from selenium.webdriver.common.by import By\n",
    "from urllib.request import Request, urlopen # 이미지를 불러올 수 있는 라이브러리"
   ]
  },
  {
   "cell_type": "code",
   "execution_count": 77,
   "id": "a472f488",
   "metadata": {},
   "outputs": [],
   "source": [
    "driver = webdriver.Chrome()\n",
    "driver.implicitly_wait(3)\n",
    "\n",
    "url = 'https://pixabay.com/ko/images/search/우주/'\n",
    "driver.get(url)\n",
    "time.sleep(3)"
   ]
  },
  {
   "cell_type": "code",
   "execution_count": 78,
   "id": "99f5b358",
   "metadata": {},
   "outputs": [
    {
     "name": "stdout",
     "output_type": "stream",
     "text": [
      "image_url:  https://cdn.pixabay.com/photo/2017/08/30/01/05/milky-way-2695569_1280.jpg\n"
     ]
    }
   ],
   "source": [
    "# 파일 소스 빼오기\n",
    "image_xpath = '/html/body/div[1]/div[1]/div/div[2]/div[3]/div/div/div[1]/div[1]/div/a/img'\n",
    "image_url = driver.find_element(By.XPATH, image_xpath).get_attribute('src')\n",
    "print('image_url: ', image_url)"
   ]
  },
  {
   "cell_type": "code",
   "execution_count": 79,
   "id": "3ce826e4",
   "metadata": {},
   "outputs": [],
   "source": [
    "# 파일 소스 다운로드\n",
    "image_byte = Request(image_url, headers={'User-Agent':'Mozilla/5.0 (Windows NT 10.0; Win64; x64)'})\n",
    "f = open('cosmic.jpg', 'wb')\n",
    "f.write(urlopen(image_byte).read())\n",
    "f.close()"
   ]
  },
  {
   "cell_type": "markdown",
   "id": "55cc317f",
   "metadata": {},
   "source": [
    "#2. 여러개 이미지 수집하기"
   ]
  },
  {
   "cell_type": "code",
   "execution_count": 82,
   "id": "c90aeee9",
   "metadata": {},
   "outputs": [
    {
     "name": "stdout",
     "output_type": "stream",
     "text": [
      "https://cdn.pixabay.com/photo/2017/08/30/01/05/milky-way-2695569_1280.jpg\n",
      "https://cdn.pixabay.com/photo/2016/11/29/05/45/astronomy-1867616_640.jpg\n",
      "https://cdn.pixabay.com/photo/2018/08/15/13/10/galaxy-3608029_640.jpg\n",
      "https://cdn.pixabay.com/photo/2017/08/15/08/23/stars-2643089_640.jpg\n",
      "https://cdn.pixabay.com/photo/2011/12/13/14/31/earth-11015_640.jpg\n",
      "https://cdn.pixabay.com/photo/2015/08/28/11/27/space-911785_640.jpg\n",
      "https://cdn.pixabay.com/photo/2017/08/08/00/33/constellations-2609647_640.jpg\n",
      "https://cdn.pixabay.com/photo/2017/09/14/22/42/milky-way-2750627_640.jpg\n",
      "https://cdn.pixabay.com/photo/2016/03/18/15/02/ufo-1265186_640.jpg\n",
      "https://cdn.pixabay.com/photo/2012/11/28/10/16/stars-67616_640.jpg\n",
      "https://cdn.pixabay.com/photo/2016/07/19/04/40/moon-1527501_640.jpg\n",
      "https://cdn.pixabay.com/photo/2016/05/01/21/20/earth-1365995_640.jpg\n",
      "https://cdn.pixabay.com/photo/2015/04/25/23/32/wormhole-739872_640.png\n",
      "https://cdn.pixabay.com/photo/2018/07/09/16/59/clouds-3526558_640.jpg\n",
      "https://cdn.pixabay.com/photo/2016/09/29/13/08/planet-1702788_640.jpg\n",
      "https://cdn.pixabay.com/photo/2014/09/08/09/24/solar-system-439046_640.jpg\n",
      "https://cdn.pixabay.com/photo/2016/08/24/14/29/earth-1617121_640.jpg\n",
      "https://cdn.pixabay.com/photo/2011/12/14/12/11/astronaut-11080_640.jpg\n",
      "https://cdn.pixabay.com/photo/2016/09/08/20/52/stars-1655504_640.jpg\n",
      "https://cdn.pixabay.com/photo/2016/10/30/20/22/astronaut-1784245_640.jpg\n",
      "https://cdn.pixabay.com/photo/2020/02/07/19/05/spaceship-4828098_640.jpg\n",
      "https://cdn.pixabay.com/photo/2018/08/31/08/35/toys-3644073_640.png\n",
      "https://cdn.pixabay.com/photo/2020/10/14/16/14/space-5654794_640.png\n",
      "https://cdn.pixabay.com/photo/2017/10/17/19/11/fantasy-2861815_640.jpg\n",
      "https://cdn.pixabay.com/photo/2015/08/29/13/23/night-913046_640.jpg\n",
      "https://cdn.pixabay.com/photo/2016/11/21/17/41/star-trails-1846734_640.jpg\n",
      "https://cdn.pixabay.com/photo/2017/03/11/11/44/man-2134881_640.jpg\n",
      "https://cdn.pixabay.com/photo/2011/12/14/12/18/space-11099_640.jpg\n",
      "https://cdn.pixabay.com/photo/2015/12/05/08/25/fantasy-1077863_640.jpg\n",
      "https://cdn.pixabay.com/photo/2019/10/17/09/18/cartoon-4556429_640.png\n",
      "https://cdn.pixabay.com/photo/2011/12/15/09/50/lagoon-nebula-11143_640.jpg\n",
      "https://cdn.pixabay.com/photo/2017/11/01/13/08/art-2907939_640.png\n",
      "https://cdn.pixabay.com/photo/2011/12/13/14/28/earth-11009_640.jpg\n",
      "https://cdn.pixabay.com/photo/2016/11/21/12/39/stars-1845140_640.jpg\n",
      "https://cdn.pixabay.com/photo/2016/09/08/20/52/starry-sky-1655503_640.jpg\n",
      "https://cdn.pixabay.com/photo/2011/12/13/14/30/mars-11012_640.jpg\n",
      "https://cdn.pixabay.com/photo/2017/03/27/14/31/stars-2179083_640.jpg\n",
      "https://cdn.pixabay.com/photo/2019/12/29/02/33/snow-4726119_640.jpg\n",
      "https://cdn.pixabay.com/photo/2012/10/10/11/05/space-station-60615_640.jpg\n",
      "https://cdn.pixabay.com/photo/2021/11/11/09/12/lighthouse-6785763_640.jpg\n",
      "https://cdn.pixabay.com/photo/2011/12/13/14/28/earth-11008_640.jpg\n",
      "https://cdn.pixabay.com/photo/2022/03/10/13/59/astronaut-7059915_640.png\n",
      "https://cdn.pixabay.com/photo/2017/12/23/19/53/lost-places-3035877_640.jpg\n",
      "https://cdn.pixabay.com/photo/2021/01/10/18/01/milky-way-5905903_640.jpg\n",
      "https://cdn.pixabay.com/photo/2018/01/03/05/33/the-sun-3057622_640.jpg\n",
      "https://cdn.pixabay.com/photo/2016/01/13/14/41/cosmos-flowers-1138041_640.jpg\n",
      "https://cdn.pixabay.com/photo/2016/07/04/19/19/explosion-1497200_640.jpg\n",
      "https://cdn.pixabay.com/photo/2017/02/11/10/33/spaceship-2057420_640.jpg\n",
      "https://cdn.pixabay.com/photo/2018/04/22/05/29/star-3340185_640.png\n",
      "https://cdn.pixabay.com/photo/2012/01/09/10/31/planet-11613_640.jpg\n",
      "https://cdn.pixabay.com/photo/2016/10/20/18/35/earth-1756274_640.jpg\n",
      "https://cdn.pixabay.com/photo/2017/09/12/11/56/universe-2742113_640.jpg\n",
      "https://cdn.pixabay.com/photo/2016/07/02/12/21/eclipse-1492818_640.jpg\n",
      "https://cdn.pixabay.com/photo/2014/12/27/16/38/planet-581239_640.jpg\n",
      "https://cdn.pixabay.com/photo/2011/12/14/12/21/orion-nebula-11107_640.jpg\n",
      "https://cdn.pixabay.com/photo/2019/04/06/06/44/astronaut-4106766_640.jpg\n",
      "https://cdn.pixabay.com/photo/2020/04/03/07/26/eye-4997724_640.png\n",
      "https://cdn.pixabay.com/photo/2017/02/08/12/46/moon-2048727_640.jpg\n",
      "https://cdn.pixabay.com/photo/2011/12/14/12/17/galaxy-11098_640.jpg\n",
      "https://cdn.pixabay.com/photo/2017/03/28/22/55/night-photograph-2183637_640.jpg\n",
      "https://cdn.pixabay.com/photo/2017/12/28/12/31/sketch-3045125_640.jpg\n",
      "https://cdn.pixabay.com/photo/2012/08/25/22/22/saturn-54999_640.jpg\n",
      "https://cdn.pixabay.com/photo/2017/08/24/03/41/starry-sky-2675322_640.jpg\n",
      "https://cdn.pixabay.com/photo/2011/12/15/11/37/galaxy-11188_640.jpg\n",
      "https://cdn.pixabay.com/photo/2014/11/16/23/39/superhero-534120_640.jpg\n",
      "https://cdn.pixabay.com/photo/2011/12/14/12/23/solar-system-11111_640.jpg\n",
      "https://cdn.pixabay.com/photo/2013/01/05/20/00/milky-way-74005_640.jpg\n",
      "https://cdn.pixabay.com/photo/2016/09/08/12/00/stars-1654074_640.jpg\n",
      "https://cdn.pixabay.com/photo/2019/11/07/17/07/universe-4609408_640.jpg\n",
      "https://cdn.pixabay.com/photo/2012/11/28/08/54/milky-way-67504_640.jpg\n",
      "https://cdn.pixabay.com/photo/2011/12/13/14/30/earth-11014_640.jpg\n",
      "https://cdn.pixabay.com/photo/2020/11/07/01/28/abstract-5719221_640.jpg\n",
      "https://cdn.pixabay.com/photo/2018/03/26/14/07/space-3262811_640.jpg\n",
      "https://cdn.pixabay.com/photo/2016/11/23/15/23/cosmos-1853491_640.jpg\n",
      "https://cdn.pixabay.com/photo/2020/04/30/20/14/sky-5114501_640.jpg\n",
      "https://cdn.pixabay.com/photo/2019/10/04/18/36/milky-way-4526277_640.jpg\n",
      "https://cdn.pixabay.com/photo/2019/02/19/08/43/milky-way-4006343_640.jpg\n",
      "https://cdn.pixabay.com/photo/2019/03/18/17/29/fantasy-4063619_640.jpg\n",
      "https://cdn.pixabay.com/photo/2018/09/22/12/31/cat-3695213_640.jpg\n",
      "https://cdn.pixabay.com/photo/2012/11/28/10/34/rocket-launch-67643_640.jpg\n",
      "https://cdn.pixabay.com/photo/2020/07/27/14/34/forest-5442598_640.jpg\n",
      "https://cdn.pixabay.com/photo/2018/03/04/09/51/space-3197611_640.jpg\n",
      "https://cdn.pixabay.com/photo/2016/11/22/23/19/constellations-1851128_640.jpg\n",
      "https://cdn.pixabay.com/photo/2020/12/25/04/51/polar-lights-5858656_640.jpg\n",
      "https://cdn.pixabay.com/photo/2020/06/19/22/33/wormhole-5319067_640.jpg\n",
      "https://cdn.pixabay.com/photo/2014/09/11/12/45/spacecraft-441708_640.jpg\n",
      "https://cdn.pixabay.com/photo/2020/12/06/16/16/cosmos-5809271_640.png\n",
      "https://cdn.pixabay.com/photo/2018/03/29/19/34/northern-lights-3273425_640.jpg\n",
      "https://cdn.pixabay.com/photo/2020/03/30/13/29/space-4984262_640.jpg\n",
      "https://cdn.pixabay.com/photo/2012/11/28/09/08/mars-67522_640.jpg\n",
      "https://cdn.pixabay.com/photo/2014/12/27/17/36/sun-581299_640.jpg\n",
      "https://cdn.pixabay.com/photo/2012/11/28/10/35/rocket-launch-67646_640.jpg\n",
      "https://cdn.pixabay.com/photo/2014/05/10/18/10/saturn-341379_640.jpg\n",
      "https://cdn.pixabay.com/photo/2018/04/20/01/07/spaceship-3334826_640.jpg\n",
      "https://cdn.pixabay.com/photo/2020/12/14/15/48/light-bulb-5831252_640.jpg\n",
      "https://cdn.pixabay.com/photo/2022/06/08/05/47/stars-7249785_640.jpg\n",
      "https://cdn.pixabay.com/photo/2012/11/28/11/28/rocket-launch-67723_640.jpg\n",
      "https://cdn.pixabay.com/photo/2012/01/09/09/10/sun-11582_640.jpg\n",
      "https://cdn.pixabay.com/photo/2018/11/08/11/34/milky-way-3802391_640.jpg\n",
      "https://cdn.pixabay.com/photo/2012/11/28/11/25/satellite-67718_640.jpg\n"
     ]
    }
   ],
   "source": [
    "driver = webdriver.Chrome()\n",
    "driver.implicitly_wait(3)\n",
    "\n",
    "url = 'https://pixabay.com/ko/images/search/우주/'\n",
    "driver.get(url)\n",
    "time.sleep(2)\n",
    "\n",
    "image_area_xpath = '/html/body/div[1]/div[1]/div/div[2]/div[3]/div/div'\n",
    "image_area = driver.find_element(By.XPATH, image_area_xpath)\n",
    "image_elements = image_area.find_elements(By.TAG_NAME, 'img')\n",
    "\n",
    "image_urls = []\n",
    "\n",
    "for image_element in image_elements:\n",
    "    image_url = image_element.get_attribute('data-lazy-src')\n",
    "    if image_element.get_attribute('data-lazy-src') is None:\n",
    "        image_url = image_element.get_attribute('src')\n",
    "        image_urls.append(image_url)\n",
    "    print(image_url)"
   ]
  },
  {
   "cell_type": "code",
   "execution_count": 83,
   "id": "2148285f",
   "metadata": {
    "scrolled": true
   },
   "outputs": [],
   "source": [
    "for i in range(len(image_urls)):\n",
    "    image_url = image_urls[i]\n",
    "    image_byte = Request(image_url, headers={'User-Agent':'Mozilla/5.0 (Windows NT 10.0; Win64; x64)'})\n",
    "    f = open(f'cosmic{i}.jpg', 'wb')\n",
    "    f.write(urlopen(image_byte).read())\n",
    "    f.close()"
   ]
  },
  {
   "cell_type": "markdown",
   "id": "b3bf6f4b",
   "metadata": {},
   "source": [
    "#3. 함수로 리팩토링\n",
    "* crawl_image(keyword) 키워드들 입력받고, 특정 페이지를 선택해서 그 페이지까지 크롤링해오기"
   ]
  },
  {
   "cell_type": "code",
   "execution_count": 85,
   "id": "82ad697b",
   "metadata": {},
   "outputs": [],
   "source": [
    "def crawl_image(keyword, pages):\n",
    "\n",
    "    image_urls = []\n",
    "    for i in range(1, pages+1):\n",
    "        url = f'https://pixabay.com/ko/images/search/{keyword}/?pagi={i}'\n",
    "        driver.get(url)\n",
    "        time.sleep(2)\n",
    "       \n",
    "    image_area_xpath = '/html/body/div[1]/div[1]/div/div[2]'\n",
    "    image_area = driver.find_element(By.XPATH, image_area_xpath)\n",
    "    image_elements = image_area.find_elements(By.TAG_NAME, 'img')\n",
    " \n",
    "    for image_element in image_elements:\n",
    "        image_url = image_element.get_attribute('data-lazy-src')\n",
    "        if image_element.get_attribute('data-lazy-src') is None:\n",
    "            image_url = image_element.get_attribute('src')\n",
    "        image_urls.append(image_url)\n",
    "        \n",
    "    return image_urls"
   ]
  },
  {
   "cell_type": "code",
   "execution_count": 89,
   "id": "d2e14d2d",
   "metadata": {},
   "outputs": [],
   "source": [
    "#저장하는 함수\n",
    "def crawl_and_save_image(keyword, pages):\n",
    "    image_urls = crawl_image(keyword, pages)\n",
    "    \n",
    "    if not os.path.exists(keyword):\n",
    "        os.mkdir(keyword)\n",
    "    \n",
    "    for i in range(len(image_urls)):\n",
    "        image_url = image_urls[i]\n",
    "        image_byte = Request(image_url, headers={'User-Agent':'Mozilla/5.0 (Windows NT 10.0; Win64; x64)'})\n",
    "        filename = image_url.split('/')[-1]\n",
    "        f = open(f'{keyword}/{filename}', 'wb')\n",
    "        f.write(urlopen(image_byte).read())\n",
    "        f.close()"
   ]
  },
  {
   "cell_type": "code",
   "execution_count": 90,
   "id": "b6b5b1ae",
   "metadata": {},
   "outputs": [
    {
     "ename": "FileNotFoundError",
     "evalue": "[Errno 2] No such file or directory: '우주/?ua=cd3%3Dimage%26cd7%3Dko%253A%25EC%259A%25B0%25EC%25A3%25BC%253AKOR%26ec%3Dapi_ad%26ea%3Dpixel%26el%3Dgetty%26tid%3DUA-20223345-1%26dr%3D&sp=%2524%3Dadvertisement_viewed%26action%3Dpixel%26ad_partner%3Dgetty%26ad_content%3Dapi_ad%26ad_type%3D%26media_type%3Dimage%26media_id%3D&next=https%3A%2F%2Fpixabay.com%2Fstatic%2Fimg%2Fblank.gif&hash=d2b41fe0ee3078898b861ad9fc1860c2b7e386fa&='",
     "output_type": "error",
     "traceback": [
      "\u001b[1;31m---------------------------------------------------------------------------\u001b[0m",
      "\u001b[1;31mFileNotFoundError\u001b[0m                         Traceback (most recent call last)",
      "Cell \u001b[1;32mIn[90], line 3\u001b[0m\n\u001b[0;32m      1\u001b[0m driver \u001b[38;5;241m=\u001b[39m webdriver\u001b[38;5;241m.\u001b[39mChrome()\n\u001b[0;32m      2\u001b[0m driver\u001b[38;5;241m.\u001b[39mimplicitly_wait(\u001b[38;5;241m3\u001b[39m)\n\u001b[1;32m----> 3\u001b[0m \u001b[43mcrawl_and_save_image\u001b[49m\u001b[43m(\u001b[49m\u001b[38;5;124;43m'\u001b[39;49m\u001b[38;5;124;43m우주\u001b[39;49m\u001b[38;5;124;43m'\u001b[39;49m\u001b[43m,\u001b[49m\u001b[38;5;241;43m2\u001b[39;49m\u001b[43m)\u001b[49m\n",
      "Cell \u001b[1;32mIn[89], line 12\u001b[0m, in \u001b[0;36mcrawl_and_save_image\u001b[1;34m(keyword, pages)\u001b[0m\n\u001b[0;32m     10\u001b[0m image_byte \u001b[38;5;241m=\u001b[39m Request(image_url, headers\u001b[38;5;241m=\u001b[39m{\u001b[38;5;124m'\u001b[39m\u001b[38;5;124mUser-Agent\u001b[39m\u001b[38;5;124m'\u001b[39m:\u001b[38;5;124m'\u001b[39m\u001b[38;5;124mMozilla/5.0 (Windows NT 10.0; Win64; x64)\u001b[39m\u001b[38;5;124m'\u001b[39m})\n\u001b[0;32m     11\u001b[0m filename \u001b[38;5;241m=\u001b[39m image_url\u001b[38;5;241m.\u001b[39msplit(\u001b[38;5;124m'\u001b[39m\u001b[38;5;124m/\u001b[39m\u001b[38;5;124m'\u001b[39m)[\u001b[38;5;241m-\u001b[39m\u001b[38;5;241m1\u001b[39m]\n\u001b[1;32m---> 12\u001b[0m f \u001b[38;5;241m=\u001b[39m \u001b[38;5;28;43mopen\u001b[39;49m\u001b[43m(\u001b[49m\u001b[38;5;124;43mf\u001b[39;49m\u001b[38;5;124;43m'\u001b[39;49m\u001b[38;5;132;43;01m{\u001b[39;49;00m\u001b[43mkeyword\u001b[49m\u001b[38;5;132;43;01m}\u001b[39;49;00m\u001b[38;5;124;43m/\u001b[39;49m\u001b[38;5;132;43;01m{\u001b[39;49;00m\u001b[43mfilename\u001b[49m\u001b[38;5;132;43;01m}\u001b[39;49;00m\u001b[38;5;124;43m'\u001b[39;49m\u001b[43m,\u001b[49m\u001b[43m \u001b[49m\u001b[38;5;124;43m'\u001b[39;49m\u001b[38;5;124;43mwb\u001b[39;49m\u001b[38;5;124;43m'\u001b[39;49m\u001b[43m)\u001b[49m\n\u001b[0;32m     13\u001b[0m f\u001b[38;5;241m.\u001b[39mwrite(urlopen(image_byte)\u001b[38;5;241m.\u001b[39mread())\n\u001b[0;32m     14\u001b[0m f\u001b[38;5;241m.\u001b[39mclose()\n",
      "File \u001b[1;32m~\\AppData\\Roaming\\Python\\Python38\\site-packages\\IPython\\core\\interactiveshell.py:284\u001b[0m, in \u001b[0;36m_modified_open\u001b[1;34m(file, *args, **kwargs)\u001b[0m\n\u001b[0;32m    277\u001b[0m \u001b[38;5;28;01mif\u001b[39;00m file \u001b[38;5;129;01min\u001b[39;00m {\u001b[38;5;241m0\u001b[39m, \u001b[38;5;241m1\u001b[39m, \u001b[38;5;241m2\u001b[39m}:\n\u001b[0;32m    278\u001b[0m     \u001b[38;5;28;01mraise\u001b[39;00m \u001b[38;5;167;01mValueError\u001b[39;00m(\n\u001b[0;32m    279\u001b[0m         \u001b[38;5;124mf\u001b[39m\u001b[38;5;124m\"\u001b[39m\u001b[38;5;124mIPython won\u001b[39m\u001b[38;5;124m'\u001b[39m\u001b[38;5;124mt let you open fd=\u001b[39m\u001b[38;5;132;01m{\u001b[39;00mfile\u001b[38;5;132;01m}\u001b[39;00m\u001b[38;5;124m by default \u001b[39m\u001b[38;5;124m\"\u001b[39m\n\u001b[0;32m    280\u001b[0m         \u001b[38;5;124m\"\u001b[39m\u001b[38;5;124mas it is likely to crash IPython. If you know what you are doing, \u001b[39m\u001b[38;5;124m\"\u001b[39m\n\u001b[0;32m    281\u001b[0m         \u001b[38;5;124m\"\u001b[39m\u001b[38;5;124myou can use builtins\u001b[39m\u001b[38;5;124m'\u001b[39m\u001b[38;5;124m open.\u001b[39m\u001b[38;5;124m\"\u001b[39m\n\u001b[0;32m    282\u001b[0m     )\n\u001b[1;32m--> 284\u001b[0m \u001b[38;5;28;01mreturn\u001b[39;00m \u001b[43mio_open\u001b[49m\u001b[43m(\u001b[49m\u001b[43mfile\u001b[49m\u001b[43m,\u001b[49m\u001b[43m \u001b[49m\u001b[38;5;241;43m*\u001b[39;49m\u001b[43margs\u001b[49m\u001b[43m,\u001b[49m\u001b[43m \u001b[49m\u001b[38;5;241;43m*\u001b[39;49m\u001b[38;5;241;43m*\u001b[39;49m\u001b[43mkwargs\u001b[49m\u001b[43m)\u001b[49m\n",
      "\u001b[1;31mFileNotFoundError\u001b[0m: [Errno 2] No such file or directory: '우주/?ua=cd3%3Dimage%26cd7%3Dko%253A%25EC%259A%25B0%25EC%25A3%25BC%253AKOR%26ec%3Dapi_ad%26ea%3Dpixel%26el%3Dgetty%26tid%3DUA-20223345-1%26dr%3D&sp=%2524%3Dadvertisement_viewed%26action%3Dpixel%26ad_partner%3Dgetty%26ad_content%3Dapi_ad%26ad_type%3D%26media_type%3Dimage%26media_id%3D&next=https%3A%2F%2Fpixabay.com%2Fstatic%2Fimg%2Fblank.gif&hash=d2b41fe0ee3078898b861ad9fc1860c2b7e386fa&='"
     ]
    }
   ],
   "source": [
    "driver = webdriver.Chrome()\n",
    "driver.implicitly_wait(3)\n",
    "crawl_and_save_image('우주',2)"
   ]
  },
  {
   "cell_type": "code",
   "execution_count": null,
   "id": "fb2ace9e",
   "metadata": {},
   "outputs": [],
   "source": [
    "# 과제1\n",
    "바나프레소 매장명, 주소를 크롤링해서 엑셀로 내보내기\n",
    "# 과제2\n",
    "쇼핑몰 1개 선정 후 카테고리별로 정해 크롤링하고 해당 카테고리 사진을 폴더로 정리하기 → mysql에 테이블을 만든 후 카테고리와 파일경로를 저장"
   ]
  }
 ],
 "metadata": {
  "kernelspec": {
   "display_name": "Python 3 (ipykernel)",
   "language": "python",
   "name": "python3"
  },
  "language_info": {
   "codemirror_mode": {
    "name": "ipython",
    "version": 3
   },
   "file_extension": ".py",
   "mimetype": "text/x-python",
   "name": "python",
   "nbconvert_exporter": "python",
   "pygments_lexer": "ipython3",
   "version": "3.8.0"
  }
 },
 "nbformat": 4,
 "nbformat_minor": 5
}
