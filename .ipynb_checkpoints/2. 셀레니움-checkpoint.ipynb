{
 "cells": [
  {
   "cell_type": "markdown",
   "id": "9081eeb1",
   "metadata": {},
   "source": [
    "#1. 셀레니움(Selenium)\n",
    "* 브라우저를 컨트롤할 수 있도록 지원하는 라이브러리"
   ]
  },
  {
   "cell_type": "code",
   "execution_count": 6,
   "id": "a04d0888",
   "metadata": {},
   "outputs": [
    {
     "name": "stdout",
     "output_type": "stream",
     "text": [
      "Requirement already satisfied: selenium in c:\\users\\administrator\\appdata\\local\\programs\\python\\python38\\lib\\site-packages (4.9.1)\n",
      "Requirement already satisfied: urllib3[socks]<3,>=1.26 in c:\\users\\administrator\\appdata\\local\\programs\\python\\python38\\lib\\site-packages (from selenium) (2.0.2)\n",
      "Requirement already satisfied: trio~=0.17 in c:\\users\\administrator\\appdata\\local\\programs\\python\\python38\\lib\\site-packages (from selenium) (0.22.0)\n",
      "Requirement already satisfied: trio-websocket~=0.9 in c:\\users\\administrator\\appdata\\local\\programs\\python\\python38\\lib\\site-packages (from selenium) (0.10.2)\n",
      "Requirement already satisfied: certifi>=2021.10.8 in c:\\users\\administrator\\appdata\\local\\programs\\python\\python38\\lib\\site-packages (from selenium) (2023.5.7)\n",
      "Requirement already satisfied: attrs>=19.2.0 in c:\\users\\administrator\\appdata\\local\\programs\\python\\python38\\lib\\site-packages (from trio~=0.17->selenium) (23.1.0)\n",
      "Requirement already satisfied: sortedcontainers in c:\\users\\administrator\\appdata\\local\\programs\\python\\python38\\lib\\site-packages (from trio~=0.17->selenium) (2.4.0)\n",
      "Requirement already satisfied: async-generator>=1.9 in c:\\users\\administrator\\appdata\\local\\programs\\python\\python38\\lib\\site-packages (from trio~=0.17->selenium) (1.10)\n",
      "Requirement already satisfied: idna in c:\\users\\administrator\\appdata\\local\\programs\\python\\python38\\lib\\site-packages (from trio~=0.17->selenium) (3.4)\n",
      "Requirement already satisfied: outcome in c:\\users\\administrator\\appdata\\local\\programs\\python\\python38\\lib\\site-packages (from trio~=0.17->selenium) (1.2.0)\n",
      "Requirement already satisfied: sniffio in c:\\users\\administrator\\appdata\\local\\programs\\python\\python38\\lib\\site-packages (from trio~=0.17->selenium) (1.3.0)\n",
      "Requirement already satisfied: cffi>=1.14 in c:\\users\\administrator\\appdata\\local\\programs\\python\\python38\\lib\\site-packages (from trio~=0.17->selenium) (1.15.1)\n",
      "Requirement already satisfied: exceptiongroup>=1.0.0rc9 in c:\\users\\administrator\\appdata\\local\\programs\\python\\python38\\lib\\site-packages (from trio~=0.17->selenium) (1.1.1)\n",
      "Requirement already satisfied: wsproto>=0.14 in c:\\users\\administrator\\appdata\\local\\programs\\python\\python38\\lib\\site-packages (from trio-websocket~=0.9->selenium) (1.2.0)\n",
      "Requirement already satisfied: pysocks!=1.5.7,<2.0,>=1.5.6 in c:\\users\\administrator\\appdata\\local\\programs\\python\\python38\\lib\\site-packages (from urllib3[socks]<3,>=1.26->selenium) (1.7.1)\n",
      "Requirement already satisfied: pycparser in c:\\users\\administrator\\appdata\\local\\programs\\python\\python38\\lib\\site-packages (from cffi>=1.14->trio~=0.17->selenium) (2.21)\n",
      "Requirement already satisfied: h11<1,>=0.9.0 in c:\\users\\administrator\\appdata\\local\\programs\\python\\python38\\lib\\site-packages (from wsproto>=0.14->trio-websocket~=0.9->selenium) (0.14.0)\n"
     ]
    }
   ],
   "source": [
    "# 셀레니움 라이브러리 설치\n",
    "!pip install selenium"
   ]
  },
  {
   "cell_type": "code",
   "execution_count": 7,
   "id": "ecb5e1a7",
   "metadata": {},
   "outputs": [
    {
     "name": "stdout",
     "output_type": "stream",
     "text": [
      "Requirement already satisfied: chromedriver_autoinstaller in c:\\users\\administrator\\appdata\\local\\programs\\python\\python38\\lib\\site-packages (0.4.0)\n"
     ]
    }
   ],
   "source": [
    "!pip install chromedriver_autoinstaller"
   ]
  },
  {
   "cell_type": "code",
   "execution_count": 8,
   "id": "87c39e82",
   "metadata": {},
   "outputs": [],
   "source": [
    "from selenium import webdriver\n",
    "from selenium.webdriver.common.keys import Keys"
   ]
  },
  {
   "cell_type": "code",
   "execution_count": 9,
   "id": "e38e94a4",
   "metadata": {},
   "outputs": [],
   "source": [
    "driver = webdriver.Chrome()"
   ]
  },
  {
   "cell_type": "code",
   "execution_count": 10,
   "id": "84d213ff",
   "metadata": {},
   "outputs": [],
   "source": [
    "driver.get('https://www.python.org')"
   ]
  },
  {
   "cell_type": "code",
   "execution_count": 11,
   "id": "ad072297",
   "metadata": {},
   "outputs": [],
   "source": [
    "search = driver.find_element('name', 'q')"
   ]
  },
  {
   "cell_type": "code",
   "execution_count": 12,
   "id": "7355bfed",
   "metadata": {
    "scrolled": true
   },
   "outputs": [],
   "source": [
    "search.send_keys('날씨')"
   ]
  },
  {
   "cell_type": "code",
   "execution_count": 13,
   "id": "cb780c5f",
   "metadata": {},
   "outputs": [],
   "source": [
    "search.send_keys(Keys.RETURN)"
   ]
  },
  {
   "cell_type": "markdown",
   "id": "a399b675",
   "metadata": {},
   "source": [
    "#2. 네이버 웹툰\n"
   ]
  },
  {
   "cell_type": "code",
   "execution_count": 14,
   "id": "951a80a6",
   "metadata": {},
   "outputs": [],
   "source": [
    "driver = webdriver.Chrome()\n",
    "driver.get('https://comic.naver.com/webtoon/detail?titleId=183559&no=567')"
   ]
  },
  {
   "cell_type": "code",
   "execution_count": 15,
   "id": "4203e083",
   "metadata": {},
   "outputs": [],
   "source": [
    "from bs4 import BeautifulSoup"
   ]
  },
  {
   "cell_type": "code",
   "execution_count": 16,
   "id": "1b105ddb",
   "metadata": {
    "scrolled": true
   },
   "outputs": [],
   "source": [
    "soup = BeautifulSoup(driver.page_source)"
   ]
  },
  {
   "cell_type": "raw",
   "id": "b278cb22",
   "metadata": {},
   "source": [
    "driver.page_source"
   ]
  },
  {
   "cell_type": "code",
   "execution_count": 17,
   "id": "f9a29b11",
   "metadata": {},
   "outputs": [],
   "source": [
    "soup = BeautifulSoup(driver.page_source)"
   ]
  },
  {
   "cell_type": "code",
   "execution_count": 22,
   "id": "22095c09",
   "metadata": {},
   "outputs": [
    {
     "name": "stdout",
     "output_type": "stream",
     "text": [
      "[<div class=\"u_cbox_comment_box\"><div class=\"u_cbox_area\"><div class=\"u_cbox_info\"><span class=\"u_cbox_info_main\"><span class=\"u_cbox_name\"><span class=\"u_cbox_name_area\"><span class=\"u_cbox_nick_area\"><span class=\"u_cbox_nick\">yun</span></span><span class=\"u_cbox_id_area\"><span class=\"u_cbox_id\">(yuns****)</span></span></span></span></span><span class=\"u_cbox_info_sub\"><span class=\"u_cbox_work_sub\"><a class=\"u_cbox_btn_open\" data-action=\"list#toggleButtons\" data-param=\"@event\" href=\"#\"><span class=\"u_cbox_ico_open\"></span><span class=\"u_cbox_in_open\">옵션 열기</span></a><span class=\"u_cbox_work_box\"><span class=\"u_cbox_work_inner\"><a class=\"u_cbox_btn_userreport\" data-action=\"report#request\" data-log=\"RPC.report\" data-param=\"commentNo:'452784647',objectId:'183559_567'\" href=\"#\" target=\"_blank\"><span class=\"u_cbox_ico_block\"></span><span class=\"u_cbox_in_block\">신고</span></a><a class=\"u_cbox_btn_userblock\" data-action=\"userBlock#requestBlock\" data-param=\"commentNo:'452784647',objectId:'183559_567',nickName:'yun',maskedId:'yuns****',idNo:'dXY39',profileImageSrc:'https://ssl.pstatic.net/static.cbox/20230523152013/img/img_default_profile.gif'\" href=\"#\"><span class=\"u_cbox_ico_block\"></span><span class=\"u_cbox_in_block\">차단</span></a></span></span></span></span></div><div class=\"u_cbox_text_wrap\"><span class=\"u_cbox_ico_best\" style=\"\">BEST</span><span class=\"u_cbox_contents\" data-lang=\"ko\" style=\"\">다시 원래 신의탑으로 돌아간거 같으면 개추 ㅋㅋ</span><span class=\"u_cbox_ico_exclamation\" style=\"display:none;\"></span><span class=\"u_cbox_delete_contents\" style=\"display:none;\">내가 차단한 이용자의 댓글입니다.</span></div><div class=\"u_cbox_info_base\"><span class=\"u_cbox_date\" data-value=\"2023-04-02T22:55:10+0900\">2023-04-02 22:55</span></div><div class=\"u_cbox_tool\"><a aria-expanded=\"false\" class=\"u_cbox_btn_reply\" data-action=\"reply#toggle\" data-log=\"RPC.replyopen#RPC.replyclose\" data-param=\"452784647\" href=\"#\" role=\"button\"><strong class=\"u_cbox_reply_txt\">답글</strong><span class=\"u_cbox_reply_cnt\">66</span></a><div class=\"u_cbox_recomm_set\"><strong class=\"u_vc\">좋아요/싫어요</strong><a class=\"u_cbox_btn_recomm\" data-action=\"vote\" data-log=\"RPC.sym#RPC.unsym\" data-param=\"mine:false,commentNo:'452784647',voteStatus:'SYMPATHY',objectId:'183559_567',ticket:'comic'\" href=\"#\"><span class=\"u_cbox_ico_recomm\">좋아요</span><em class=\"u_cbox_cnt_recomm\">5226</em></a><a class=\"u_cbox_btn_unrecomm\" data-action=\"vote\" data-log=\"RPC.dis#RPC.undis\" data-param=\"mine:false,commentNo:'452784647',voteStatus:'ANTIPATHY',objectId:'183559_567',ticket:'comic'\" href=\"#\"><span class=\"u_cbox_ico_unrecomm\">싫어요</span><em class=\"u_cbox_cnt_unrecomm\">579</em></a></div></div><span class=\"u_cbox_comment_frame\"><span class=\"u_cbox_ico_tip\"></span><span class=\"u_cbox_comment_frame_top\"><span class=\"u_cbox_comment_bg_r\"></span><span class=\"u_cbox_comment_bg_l\"></span></span><span class=\"u_cbox_comment_frame_bottom\"><span class=\"u_cbox_comment_bg_r\"></span><span class=\"u_cbox_comment_bg_l\"></span></span></span></div></div>, <div class=\"u_cbox_comment_box\"><div class=\"u_cbox_area\"><div class=\"u_cbox_info\"><span class=\"u_cbox_info_main\"><span class=\"u_cbox_name\"><span class=\"u_cbox_name_area\"><span class=\"u_cbox_nick_area\"><span class=\"u_cbox_nick\">엔류</span></span><span class=\"u_cbox_id_area\"><span class=\"u_cbox_id\">(suli****)</span></span></span></span></span><span class=\"u_cbox_info_sub\"><span class=\"u_cbox_work_sub\"><a class=\"u_cbox_btn_open\" data-action=\"list#toggleButtons\" data-param=\"@event\" href=\"#\"><span class=\"u_cbox_ico_open\"></span><span class=\"u_cbox_in_open\">옵션 열기</span></a><span class=\"u_cbox_work_box\"><span class=\"u_cbox_work_inner\"><a class=\"u_cbox_btn_userreport\" data-action=\"report#request\" data-log=\"RPC.report\" data-param=\"commentNo:'452786380',objectId:'183559_567'\" href=\"#\" target=\"_blank\"><span class=\"u_cbox_ico_block\"></span><span class=\"u_cbox_in_block\">신고</span></a><a class=\"u_cbox_btn_userblock\" data-action=\"userBlock#requestBlock\" data-param=\"commentNo:'452786380',objectId:'183559_567',nickName:'엔류',maskedId:'suli****',idNo:'9b1MX',profileImageSrc:'https://ssl.pstatic.net/static.cbox/20230523152013/img/img_default_profile.gif'\" href=\"#\"><span class=\"u_cbox_ico_block\"></span><span class=\"u_cbox_in_block\">차단</span></a></span></span></span></span></div><div class=\"u_cbox_text_wrap\"><span class=\"u_cbox_ico_best\" style=\"\">BEST</span><span class=\"u_cbox_contents\" data-lang=\"ko\" style=\"\">솔직히 의미가 없는 화는 아니었다고 봅니다.\n",
      "티아라 전투력이 궁금했는데 자하드 공주랑\n",
      "육탄전이 될 정도면 신체능력도 엄청나고\n",
      "신수사용도 유리가 고밀도 신수라고 했으니\n",
      "육탄전, 신수능력 다 가진 캐릭터라는 거니까 의미있는듯.\n",
      "\n",
      "하나 아쉬운 점이라면 신의탑 연재 초기 당시에\n",
      "독자들이 이제는 나이를 먹어서..\n",
      "오늘 화는 대사가 조금 유치하지 않았나 싶네요.\n",
      "복귀했을 당시에 캐릭터들의 무게감 있는 대사를\n",
      "독자들도 더 선호하고, 그리고 하이랭커니까 나이를\n",
      "먹을 만큼 먹은 사람들이니 대사는 조금 더 다듬어 주시면\n",
      "좋을 것 같습니다 ㅎㅎㅎ\n",
      "자하드 공주야 원래 컨셉이 말괄량이 공주들 느낌이라\n",
      "대사가 어느정도 가벼운 건 작가님 의도라지만 그 정도가\n",
      "조금 줄어들면 어떨까 싶네요.</span><span class=\"u_cbox_ico_exclamation\" style=\"display:none;\"></span><span class=\"u_cbox_delete_contents\" style=\"display:none;\">내가 차단한 이용자의 댓글입니다.</span></div><div class=\"u_cbox_info_base\"><span class=\"u_cbox_date\" data-value=\"2023-04-02T23:02:28+0900\">2023-04-02 23:02</span></div><div class=\"u_cbox_tool\"><a aria-expanded=\"false\" class=\"u_cbox_btn_reply\" data-action=\"reply#toggle\" data-log=\"RPC.replyopen#RPC.replyclose\" data-param=\"452786380\" href=\"#\" role=\"button\"><strong class=\"u_cbox_reply_txt\">답글</strong><span class=\"u_cbox_reply_cnt\">70</span></a><div class=\"u_cbox_recomm_set\"><strong class=\"u_vc\">좋아요/싫어요</strong><a class=\"u_cbox_btn_recomm\" data-action=\"vote\" data-log=\"RPC.sym#RPC.unsym\" data-param=\"mine:false,commentNo:'452786380',voteStatus:'SYMPATHY',objectId:'183559_567',ticket:'comic'\" href=\"#\"><span class=\"u_cbox_ico_recomm\">좋아요</span><em class=\"u_cbox_cnt_recomm\">3370</em></a><a class=\"u_cbox_btn_unrecomm\" data-action=\"vote\" data-log=\"RPC.dis#RPC.undis\" data-param=\"mine:false,commentNo:'452786380',voteStatus:'ANTIPATHY',objectId:'183559_567',ticket:'comic'\" href=\"#\"><span class=\"u_cbox_ico_unrecomm\">싫어요</span><em class=\"u_cbox_cnt_unrecomm\">348</em></a></div></div><span class=\"u_cbox_comment_frame\"><span class=\"u_cbox_ico_tip\"></span><span class=\"u_cbox_comment_frame_top\"><span class=\"u_cbox_comment_bg_r\"></span><span class=\"u_cbox_comment_bg_l\"></span></span><span class=\"u_cbox_comment_frame_bottom\"><span class=\"u_cbox_comment_bg_r\"></span><span class=\"u_cbox_comment_bg_l\"></span></span></span></div></div>, <div class=\"u_cbox_comment_box\"><div class=\"u_cbox_area\"><div class=\"u_cbox_info\"><span class=\"u_cbox_info_main\"><span class=\"u_cbox_name\"><span class=\"u_cbox_name_area\"><span class=\"u_cbox_nick_area\"><span class=\"u_cbox_nick\">네</span></span><span class=\"u_cbox_id_area\"><span class=\"u_cbox_id\">(smro****)</span></span></span></span></span><span class=\"u_cbox_info_sub\"><span class=\"u_cbox_work_sub\"><a class=\"u_cbox_btn_open\" data-action=\"list#toggleButtons\" data-param=\"@event\" href=\"#\"><span class=\"u_cbox_ico_open\"></span><span class=\"u_cbox_in_open\">옵션 열기</span></a><span class=\"u_cbox_work_box\"><span class=\"u_cbox_work_inner\"><a class=\"u_cbox_btn_userreport\" data-action=\"report#request\" data-log=\"RPC.report\" data-param=\"commentNo:'452788328',objectId:'183559_567'\" href=\"#\" target=\"_blank\"><span class=\"u_cbox_ico_block\"></span><span class=\"u_cbox_in_block\">신고</span></a><a class=\"u_cbox_btn_userblock\" data-action=\"userBlock#requestBlock\" data-param=\"commentNo:'452788328',objectId:'183559_567',nickName:'네',maskedId:'smro****',idNo:'a7oDc',profileImageSrc:'https://ssl.pstatic.net/static.cbox/20230523152013/img/img_default_profile.gif'\" href=\"#\"><span class=\"u_cbox_ico_block\"></span><span class=\"u_cbox_in_block\">차단</span></a></span></span></span></span></div><div class=\"u_cbox_text_wrap\"><span class=\"u_cbox_ico_best\" style=\"\">BEST</span><span class=\"u_cbox_contents\" data-lang=\"ko\" style=\"\">1. 분량이 원래 많았던 건 맞음 2. 근데 휴재 이후에 2편씩 업데이트 하면서 한 편당 \n",
      "분량을 줄여나간 것도 맞음 \n",
      "3. 근데 그게 적은 양은 아님\n",
      "4. 충분히 2편씩 업데이트 하면서 적응할 수 있게 배려해줬다 \n",
      "5. 이제는 계속 이 분량으로 간다는 걸 눈치가 있으면 받아들여야 함\n",
      "6. 그게 마음에 안들면 기다려서 보는 게 맞다</span><span class=\"u_cbox_ico_exclamation\" style=\"display:none;\"></span><span class=\"u_cbox_delete_contents\" style=\"display:none;\">내가 차단한 이용자의 댓글입니다.</span></div><div class=\"u_cbox_info_base\"><span class=\"u_cbox_date\" data-value=\"2023-04-02T23:09:07+0900\">2023-04-02 23:09</span></div><div class=\"u_cbox_tool\"><a aria-expanded=\"false\" class=\"u_cbox_btn_reply\" data-action=\"reply#toggle\" data-log=\"RPC.replyopen#RPC.replyclose\" data-param=\"452788328\" href=\"#\" role=\"button\"><strong class=\"u_cbox_reply_txt\">답글</strong><span class=\"u_cbox_reply_cnt\">17</span></a><div class=\"u_cbox_recomm_set\"><strong class=\"u_vc\">좋아요/싫어요</strong><a class=\"u_cbox_btn_recomm\" data-action=\"vote\" data-log=\"RPC.sym#RPC.unsym\" data-param=\"mine:false,commentNo:'452788328',voteStatus:'SYMPATHY',objectId:'183559_567',ticket:'comic'\" href=\"#\"><span class=\"u_cbox_ico_recomm\">좋아요</span><em class=\"u_cbox_cnt_recomm\">2271</em></a><a class=\"u_cbox_btn_unrecomm\" data-action=\"vote\" data-log=\"RPC.dis#RPC.undis\" data-param=\"mine:false,commentNo:'452788328',voteStatus:'ANTIPATHY',objectId:'183559_567',ticket:'comic'\" href=\"#\"><span class=\"u_cbox_ico_unrecomm\">싫어요</span><em class=\"u_cbox_cnt_unrecomm\">112</em></a></div></div><span class=\"u_cbox_comment_frame\"><span class=\"u_cbox_ico_tip\"></span><span class=\"u_cbox_comment_frame_top\"><span class=\"u_cbox_comment_bg_r\"></span><span class=\"u_cbox_comment_bg_l\"></span></span><span class=\"u_cbox_comment_frame_bottom\"><span class=\"u_cbox_comment_bg_r\"></span><span class=\"u_cbox_comment_bg_l\"></span></span></span></div></div>, <div class=\"u_cbox_comment_box\"><div class=\"u_cbox_area\"><div class=\"u_cbox_info\"><span class=\"u_cbox_info_main\"><span class=\"u_cbox_name\"><span class=\"u_cbox_name_area\"><span class=\"u_cbox_nick_area\"><span class=\"u_cbox_nick\">승규</span></span><span class=\"u_cbox_id_area\"><span class=\"u_cbox_id\">(king****)</span></span></span></span></span><span class=\"u_cbox_info_sub\"><span class=\"u_cbox_work_sub\"><a class=\"u_cbox_btn_open\" data-action=\"list#toggleButtons\" data-param=\"@event\" href=\"#\"><span class=\"u_cbox_ico_open\"></span><span class=\"u_cbox_in_open\">옵션 열기</span></a><span class=\"u_cbox_work_box\"><span class=\"u_cbox_work_inner\"><a class=\"u_cbox_btn_userreport\" data-action=\"report#request\" data-log=\"RPC.report\" data-param=\"commentNo:'452793520',objectId:'183559_567'\" href=\"#\" target=\"_blank\"><span class=\"u_cbox_ico_block\"></span><span class=\"u_cbox_in_block\">신고</span></a><a class=\"u_cbox_btn_userblock\" data-action=\"userBlock#requestBlock\" data-param=\"commentNo:'452793520',objectId:'183559_567',nickName:'승규',maskedId:'king****',idNo:'1afFU',profileImageSrc:'https://ssl.pstatic.net/static.cbox/20230523152013/img/img_default_profile.gif'\" href=\"#\"><span class=\"u_cbox_ico_block\"></span><span class=\"u_cbox_in_block\">차단</span></a></span></span></span></span></div><div class=\"u_cbox_text_wrap\"><span class=\"u_cbox_ico_best\" style=\"\">BEST</span><span class=\"u_cbox_contents\" data-lang=\"ko\" style=\"\">아니 억까가 너무 심함ㅋㅋㅋㅋ 신의탑 원래 대사 중간중간에 유치한 대사로 농담 따먹기 하는게 1화때부터 작가님 스타일이였음</span><span class=\"u_cbox_ico_exclamation\" style=\"display:none;\"></span><span class=\"u_cbox_delete_contents\" style=\"display:none;\">내가 차단한 이용자의 댓글입니다.</span></div><div class=\"u_cbox_info_base\"><span class=\"u_cbox_date\" data-value=\"2023-04-02T23:48:08+0900\">2023-04-02 23:48</span></div><div class=\"u_cbox_tool\"><a aria-expanded=\"false\" class=\"u_cbox_btn_reply\" data-action=\"reply#toggle\" data-log=\"RPC.replyopen#RPC.replyclose\" data-param=\"452793520\" href=\"#\" role=\"button\"><strong class=\"u_cbox_reply_txt\">답글</strong><span class=\"u_cbox_reply_cnt\">28</span></a><div class=\"u_cbox_recomm_set\"><strong class=\"u_vc\">좋아요/싫어요</strong><a class=\"u_cbox_btn_recomm\" data-action=\"vote\" data-log=\"RPC.sym#RPC.unsym\" data-param=\"mine:false,commentNo:'452793520',voteStatus:'SYMPATHY',objectId:'183559_567',ticket:'comic'\" href=\"#\"><span class=\"u_cbox_ico_recomm\">좋아요</span><em class=\"u_cbox_cnt_recomm\">1583</em></a><a class=\"u_cbox_btn_unrecomm\" data-action=\"vote\" data-log=\"RPC.dis#RPC.undis\" data-param=\"mine:false,commentNo:'452793520',voteStatus:'ANTIPATHY',objectId:'183559_567',ticket:'comic'\" href=\"#\"><span class=\"u_cbox_ico_unrecomm\">싫어요</span><em class=\"u_cbox_cnt_unrecomm\">144</em></a></div></div><span class=\"u_cbox_comment_frame\"><span class=\"u_cbox_ico_tip\"></span><span class=\"u_cbox_comment_frame_top\"><span class=\"u_cbox_comment_bg_r\"></span><span class=\"u_cbox_comment_bg_l\"></span></span><span class=\"u_cbox_comment_frame_bottom\"><span class=\"u_cbox_comment_bg_r\"></span><span class=\"u_cbox_comment_bg_l\"></span></span></span></div></div>, <div class=\"u_cbox_comment_box\"><div class=\"u_cbox_area\"><div class=\"u_cbox_info\"><span class=\"u_cbox_info_main\"><span class=\"u_cbox_name\"><span class=\"u_cbox_name_area\"><span class=\"u_cbox_nick_area\"><span class=\"u_cbox_nick\">zxcvb</span></span><span class=\"u_cbox_id_area\"><span class=\"u_cbox_id\">(zxcv****)</span></span></span></span></span><span class=\"u_cbox_info_sub\"><span class=\"u_cbox_work_sub\"><a class=\"u_cbox_btn_open\" data-action=\"list#toggleButtons\" data-param=\"@event\" href=\"#\"><span class=\"u_cbox_ico_open\"></span><span class=\"u_cbox_in_open\">옵션 열기</span></a><span class=\"u_cbox_work_box\"><span class=\"u_cbox_work_inner\"><a class=\"u_cbox_btn_userreport\" data-action=\"report#request\" data-log=\"RPC.report\" data-param=\"commentNo:'452788966',objectId:'183559_567'\" href=\"#\" target=\"_blank\"><span class=\"u_cbox_ico_block\"></span><span class=\"u_cbox_in_block\">신고</span></a><a class=\"u_cbox_btn_userblock\" data-action=\"userBlock#requestBlock\" data-param=\"commentNo:'452788966',objectId:'183559_567',nickName:'zxcvb',maskedId:'zxcv****',idNo:'5LrS4',profileImageSrc:'https://ssl.pstatic.net/static.cbox/20230523152013/img/img_default_profile.gif'\" href=\"#\"><span class=\"u_cbox_ico_block\"></span><span class=\"u_cbox_in_block\">차단</span></a></span></span></span></span></div><div class=\"u_cbox_text_wrap\"><span class=\"u_cbox_ico_best\" style=\"\">BEST</span><span class=\"u_cbox_contents\" data-lang=\"ko\" style=\"\">유리한테만큼은 존대 쓰던 쿤 어디갔누 </span><span class=\"u_cbox_ico_exclamation\" style=\"display:none;\"></span><span class=\"u_cbox_delete_contents\" style=\"display:none;\">내가 차단한 이용자의 댓글입니다.</span></div><div class=\"u_cbox_info_base\"><span class=\"u_cbox_date\" data-value=\"2023-04-02T23:12:04+0900\">2023-04-02 23:12</span></div><div class=\"u_cbox_tool\"><a aria-expanded=\"false\" class=\"u_cbox_btn_reply\" data-action=\"reply#toggle\" data-log=\"RPC.replyopen#RPC.replyclose\" data-param=\"452788966\" href=\"#\" role=\"button\"><strong class=\"u_cbox_reply_txt\">답글</strong><span class=\"u_cbox_reply_cnt\">19</span></a><div class=\"u_cbox_recomm_set\"><strong class=\"u_vc\">좋아요/싫어요</strong><a class=\"u_cbox_btn_recomm\" data-action=\"vote\" data-log=\"RPC.sym#RPC.unsym\" data-param=\"mine:false,commentNo:'452788966',voteStatus:'SYMPATHY',objectId:'183559_567',ticket:'comic'\" href=\"#\"><span class=\"u_cbox_ico_recomm\">좋아요</span><em class=\"u_cbox_cnt_recomm\">1583</em></a><a class=\"u_cbox_btn_unrecomm\" data-action=\"vote\" data-log=\"RPC.dis#RPC.undis\" data-param=\"mine:false,commentNo:'452788966',voteStatus:'ANTIPATHY',objectId:'183559_567',ticket:'comic'\" href=\"#\"><span class=\"u_cbox_ico_unrecomm\">싫어요</span><em class=\"u_cbox_cnt_unrecomm\">28</em></a></div></div><span class=\"u_cbox_comment_frame\"><span class=\"u_cbox_ico_tip\"></span><span class=\"u_cbox_comment_frame_top\"><span class=\"u_cbox_comment_bg_r\"></span><span class=\"u_cbox_comment_bg_l\"></span></span><span class=\"u_cbox_comment_frame_bottom\"><span class=\"u_cbox_comment_bg_r\"></span><span class=\"u_cbox_comment_bg_l\"></span></span></span></div></div>, <div class=\"u_cbox_comment_box\"><div class=\"u_cbox_area\"><div class=\"u_cbox_info\"><span class=\"u_cbox_info_main\"><span class=\"u_cbox_name\"><span class=\"u_cbox_name_area\"><span class=\"u_cbox_nick_area\"><span class=\"u_cbox_nick\">신운</span></span><span class=\"u_cbox_id_area\"><span class=\"u_cbox_id\">(luck****)</span></span></span></span></span><span class=\"u_cbox_info_sub\"><span class=\"u_cbox_work_sub\"><a class=\"u_cbox_btn_open\" data-action=\"list#toggleButtons\" data-param=\"@event\" href=\"#\"><span class=\"u_cbox_ico_open\"></span><span class=\"u_cbox_in_open\">옵션 열기</span></a><span class=\"u_cbox_work_box\"><span class=\"u_cbox_work_inner\"><a class=\"u_cbox_btn_userreport\" data-action=\"report#request\" data-log=\"RPC.report\" data-param=\"commentNo:'452791084',objectId:'183559_567'\" href=\"#\" target=\"_blank\"><span class=\"u_cbox_ico_block\"></span><span class=\"u_cbox_in_block\">신고</span></a><a class=\"u_cbox_btn_userblock\" data-action=\"userBlock#requestBlock\" data-param=\"commentNo:'452791084',objectId:'183559_567',nickName:'신운',maskedId:'luck****',idNo:'4j7RZ',profileImageSrc:'https://ssl.pstatic.net/static.cbox/20230523152013/img/img_default_profile.gif'\" href=\"#\"><span class=\"u_cbox_ico_block\"></span><span class=\"u_cbox_in_block\">차단</span></a></span></span></span></span></div><div class=\"u_cbox_text_wrap\"><span class=\"u_cbox_ico_best\" style=\"\">BEST</span><span class=\"u_cbox_contents\" data-lang=\"ko\" style=\"\">작가님 대사를 억지로 젊어보이게 하는 거 보다 자연스러운게 좋을 거 같습니다.\n",
      "킹받게, 반응속도보소등 이런것만 억지로 집어넣지 않으셔도 작품이 훨씬 괜찮아질거같네요.</span><span class=\"u_cbox_ico_exclamation\" style=\"display:none;\"></span><span class=\"u_cbox_delete_contents\" style=\"display:none;\">내가 차단한 이용자의 댓글입니다.</span></div><div class=\"u_cbox_info_base\"><span class=\"u_cbox_date\" data-value=\"2023-04-02T23:24:37+0900\">2023-04-02 23:24</span></div><div class=\"u_cbox_tool\"><a aria-expanded=\"false\" class=\"u_cbox_btn_reply\" data-action=\"reply#toggle\" data-log=\"RPC.replyopen#RPC.replyclose\" data-param=\"452791084\" href=\"#\" role=\"button\"><strong class=\"u_cbox_reply_txt\">답글</strong><span class=\"u_cbox_reply_cnt\">21</span></a><div class=\"u_cbox_recomm_set\"><strong class=\"u_vc\">좋아요/싫어요</strong><a class=\"u_cbox_btn_recomm\" data-action=\"vote\" data-log=\"RPC.sym#RPC.unsym\" data-param=\"mine:false,commentNo:'452791084',voteStatus:'SYMPATHY',objectId:'183559_567',ticket:'comic'\" href=\"#\"><span class=\"u_cbox_ico_recomm\">좋아요</span><em class=\"u_cbox_cnt_recomm\">1158</em></a><a class=\"u_cbox_btn_unrecomm\" data-action=\"vote\" data-log=\"RPC.dis#RPC.undis\" data-param=\"mine:false,commentNo:'452791084',voteStatus:'ANTIPATHY',objectId:'183559_567',ticket:'comic'\" href=\"#\"><span class=\"u_cbox_ico_unrecomm\">싫어요</span><em class=\"u_cbox_cnt_unrecomm\">147</em></a></div></div><span class=\"u_cbox_comment_frame\"><span class=\"u_cbox_ico_tip\"></span><span class=\"u_cbox_comment_frame_top\"><span class=\"u_cbox_comment_bg_r\"></span><span class=\"u_cbox_comment_bg_l\"></span></span><span class=\"u_cbox_comment_frame_bottom\"><span class=\"u_cbox_comment_bg_r\"></span><span class=\"u_cbox_comment_bg_l\"></span></span></span></div></div>, <div class=\"u_cbox_comment_box\"><div class=\"u_cbox_area\"><div class=\"u_cbox_info\"><span class=\"u_cbox_info_main\"><span class=\"u_cbox_name\"><span class=\"u_cbox_name_area\"><span class=\"u_cbox_nick_area\"><span class=\"u_cbox_nick\">PP</span></span><span class=\"u_cbox_id_area\"><span class=\"u_cbox_id\">(enok****)</span></span></span></span></span><span class=\"u_cbox_info_sub\"><span class=\"u_cbox_work_sub\"><a class=\"u_cbox_btn_open\" data-action=\"list#toggleButtons\" data-param=\"@event\" href=\"#\"><span class=\"u_cbox_ico_open\"></span><span class=\"u_cbox_in_open\">옵션 열기</span></a><span class=\"u_cbox_work_box\"><span class=\"u_cbox_work_inner\"><a class=\"u_cbox_btn_userreport\" data-action=\"report#request\" data-log=\"RPC.report\" data-param=\"commentNo:'452788759',objectId:'183559_567'\" href=\"#\" target=\"_blank\"><span class=\"u_cbox_ico_block\"></span><span class=\"u_cbox_in_block\">신고</span></a><a class=\"u_cbox_btn_userblock\" data-action=\"userBlock#requestBlock\" data-param=\"commentNo:'452788759',objectId:'183559_567',nickName:'PP',maskedId:'enok****',idNo:'7wbiq',profileImageSrc:'https://ssl.pstatic.net/static.cbox/20230523152013/img/img_default_profile.gif'\" href=\"#\"><span class=\"u_cbox_ico_block\"></span><span class=\"u_cbox_in_block\">차단</span></a></span></span></span></span></div><div class=\"u_cbox_text_wrap\"><span class=\"u_cbox_ico_best\" style=\"\">BEST</span><span class=\"u_cbox_contents\" data-lang=\"ko\" style=\"\">2기때 어시들 관뒀나요?</span><span class=\"u_cbox_ico_exclamation\" style=\"display:none;\"></span><span class=\"u_cbox_delete_contents\" style=\"display:none;\">내가 차단한 이용자의 댓글입니다.</span></div><div class=\"u_cbox_info_base\"><span class=\"u_cbox_date\" data-value=\"2023-04-02T23:11:00+0900\">2023-04-02 23:11</span></div><div class=\"u_cbox_tool\"><a aria-expanded=\"false\" class=\"u_cbox_btn_reply\" data-action=\"reply#toggle\" data-log=\"RPC.replyopen#RPC.replyclose\" data-param=\"452788759\" href=\"#\" role=\"button\"><strong class=\"u_cbox_reply_txt\">답글</strong><span class=\"u_cbox_reply_cnt\">12</span></a><div class=\"u_cbox_recomm_set\"><strong class=\"u_vc\">좋아요/싫어요</strong><a class=\"u_cbox_btn_recomm\" data-action=\"vote\" data-log=\"RPC.sym#RPC.unsym\" data-param=\"mine:false,commentNo:'452788759',voteStatus:'SYMPATHY',objectId:'183559_567',ticket:'comic'\" href=\"#\"><span class=\"u_cbox_ico_recomm\">좋아요</span><em class=\"u_cbox_cnt_recomm\">663</em></a><a class=\"u_cbox_btn_unrecomm\" data-action=\"vote\" data-log=\"RPC.dis#RPC.undis\" data-param=\"mine:false,commentNo:'452788759',voteStatus:'ANTIPATHY',objectId:'183559_567',ticket:'comic'\" href=\"#\"><span class=\"u_cbox_ico_unrecomm\">싫어요</span><em class=\"u_cbox_cnt_unrecomm\">51</em></a></div></div><span class=\"u_cbox_comment_frame\"><span class=\"u_cbox_ico_tip\"></span><span class=\"u_cbox_comment_frame_top\"><span class=\"u_cbox_comment_bg_r\"></span><span class=\"u_cbox_comment_bg_l\"></span></span><span class=\"u_cbox_comment_frame_bottom\"><span class=\"u_cbox_comment_bg_r\"></span><span class=\"u_cbox_comment_bg_l\"></span></span></span></div></div>, <div class=\"u_cbox_comment_box\"><div class=\"u_cbox_area\"><div class=\"u_cbox_info\"><span class=\"u_cbox_info_main\"><span class=\"u_cbox_name\"><span class=\"u_cbox_name_area\"><span class=\"u_cbox_nick_area\"><span class=\"u_cbox_nick\">퀴오</span></span><span class=\"u_cbox_id_area\"><span class=\"u_cbox_id\">(owsk****)</span></span></span></span></span><span class=\"u_cbox_info_sub\"><span class=\"u_cbox_work_sub\"><a class=\"u_cbox_btn_open\" data-action=\"list#toggleButtons\" data-param=\"@event\" href=\"#\"><span class=\"u_cbox_ico_open\"></span><span class=\"u_cbox_in_open\">옵션 열기</span></a><span class=\"u_cbox_work_box\"><span class=\"u_cbox_work_inner\"><a class=\"u_cbox_btn_userreport\" data-action=\"report#request\" data-log=\"RPC.report\" data-param=\"commentNo:'452789488',objectId:'183559_567'\" href=\"#\" target=\"_blank\"><span class=\"u_cbox_ico_block\"></span><span class=\"u_cbox_in_block\">신고</span></a><a class=\"u_cbox_btn_userblock\" data-action=\"userBlock#requestBlock\" data-param=\"commentNo:'452789488',objectId:'183559_567',nickName:'퀴오',maskedId:'owsk****',idNo:'alGlM',profileImageSrc:'https://ssl.pstatic.net/static.cbox/20230523152013/img/img_default_profile.gif'\" href=\"#\"><span class=\"u_cbox_ico_block\"></span><span class=\"u_cbox_in_block\">차단</span></a></span></span></span></span></div><div class=\"u_cbox_text_wrap\"><span class=\"u_cbox_ico_best\" style=\"\">BEST</span><span class=\"u_cbox_contents\" data-lang=\"ko\" style=\"\">최근에 정주행했는데 3부 중간부터 대사 담당하는 사람이 바뀐 느낌임. 2부에는 스토리도 그렇고 캐릭터도 입체적이었는데 지금은 감정이나 서사를 너무 생략해서 어색함</span><span class=\"u_cbox_ico_exclamation\" style=\"display:none;\"></span><span class=\"u_cbox_delete_contents\" style=\"display:none;\">내가 차단한 이용자의 댓글입니다.</span></div><div class=\"u_cbox_info_base\"><span class=\"u_cbox_date\" data-value=\"2023-04-02T23:14:34+0900\">2023-04-02 23:14</span></div><div class=\"u_cbox_tool\"><a aria-expanded=\"false\" class=\"u_cbox_btn_reply\" data-action=\"reply#toggle\" data-log=\"RPC.replyopen#RPC.replyclose\" data-param=\"452789488\" href=\"#\" role=\"button\"><strong class=\"u_cbox_reply_txt\">답글</strong><span class=\"u_cbox_reply_cnt\">13</span></a><div class=\"u_cbox_recomm_set\"><strong class=\"u_vc\">좋아요/싫어요</strong><a class=\"u_cbox_btn_recomm\" data-action=\"vote\" data-log=\"RPC.sym#RPC.unsym\" data-param=\"mine:false,commentNo:'452789488',voteStatus:'SYMPATHY',objectId:'183559_567',ticket:'comic'\" href=\"#\"><span class=\"u_cbox_ico_recomm\">좋아요</span><em class=\"u_cbox_cnt_recomm\">567</em></a><a class=\"u_cbox_btn_unrecomm\" data-action=\"vote\" data-log=\"RPC.dis#RPC.undis\" data-param=\"mine:false,commentNo:'452789488',voteStatus:'ANTIPATHY',objectId:'183559_567',ticket:'comic'\" href=\"#\"><span class=\"u_cbox_ico_unrecomm\">싫어요</span><em class=\"u_cbox_cnt_unrecomm\">62</em></a></div></div><span class=\"u_cbox_comment_frame\"><span class=\"u_cbox_ico_tip\"></span><span class=\"u_cbox_comment_frame_top\"><span class=\"u_cbox_comment_bg_r\"></span><span class=\"u_cbox_comment_bg_l\"></span></span><span class=\"u_cbox_comment_frame_bottom\"><span class=\"u_cbox_comment_bg_r\"></span><span class=\"u_cbox_comment_bg_l\"></span></span></span></div></div>, <div class=\"u_cbox_comment_box\"><div class=\"u_cbox_area\"><div class=\"u_cbox_info\"><span class=\"u_cbox_info_main\"><span class=\"u_cbox_name\"><span class=\"u_cbox_name_area\"><span class=\"u_cbox_nick_area\"><span class=\"u_cbox_nick\">lhk1****</span></span><span class=\"u_cbox_id_area\"><span class=\"u_cbox_id\">(lhk1****)</span></span></span></span></span><span class=\"u_cbox_info_sub\"><span class=\"u_cbox_work_sub\"><a class=\"u_cbox_btn_open\" data-action=\"list#toggleButtons\" data-param=\"@event\" href=\"#\"><span class=\"u_cbox_ico_open\"></span><span class=\"u_cbox_in_open\">옵션 열기</span></a><span class=\"u_cbox_work_box\"><span class=\"u_cbox_work_inner\"><a class=\"u_cbox_btn_userreport\" data-action=\"report#request\" data-log=\"RPC.report\" data-param=\"commentNo:'452793455',objectId:'183559_567'\" href=\"#\" target=\"_blank\"><span class=\"u_cbox_ico_block\"></span><span class=\"u_cbox_in_block\">신고</span></a><a class=\"u_cbox_btn_userblock\" data-action=\"userBlock#requestBlock\" data-param=\"commentNo:'452793455',objectId:'183559_567',nickName:'lhk1****',maskedId:'lhk1****',idNo:'1KXfw',profileImageSrc:'https://ssl.pstatic.net/static.cbox/20230523152013/img/img_default_profile.gif'\" href=\"#\"><span class=\"u_cbox_ico_block\"></span><span class=\"u_cbox_in_block\">차단</span></a></span></span></span></span></div><div class=\"u_cbox_text_wrap\"><span class=\"u_cbox_ico_best\" style=\"\">BEST</span><span class=\"u_cbox_contents\" data-lang=\"ko\" style=\"\">재밌구만.평 왜이래</span><span class=\"u_cbox_ico_exclamation\" style=\"display:none;\"></span><span class=\"u_cbox_delete_contents\" style=\"display:none;\">내가 차단한 이용자의 댓글입니다.</span></div><div class=\"u_cbox_info_base\"><span class=\"u_cbox_date\" data-value=\"2023-04-02T23:47:19+0900\">2023-04-02 23:47</span></div><div class=\"u_cbox_tool\"><a aria-expanded=\"false\" class=\"u_cbox_btn_reply\" data-action=\"reply#toggle\" data-log=\"RPC.replyopen#RPC.replyclose\" data-param=\"452793455\" href=\"#\" role=\"button\"><strong class=\"u_cbox_reply_txt\">답글</strong><span class=\"u_cbox_reply_cnt\">17</span></a><div class=\"u_cbox_recomm_set\"><strong class=\"u_vc\">좋아요/싫어요</strong><a class=\"u_cbox_btn_recomm\" data-action=\"vote\" data-log=\"RPC.sym#RPC.unsym\" data-param=\"mine:false,commentNo:'452793455',voteStatus:'SYMPATHY',objectId:'183559_567',ticket:'comic'\" href=\"#\"><span class=\"u_cbox_ico_recomm\">좋아요</span><em class=\"u_cbox_cnt_recomm\">565</em></a><a class=\"u_cbox_btn_unrecomm\" data-action=\"vote\" data-log=\"RPC.dis#RPC.undis\" data-param=\"mine:false,commentNo:'452793455',voteStatus:'ANTIPATHY',objectId:'183559_567',ticket:'comic'\" href=\"#\"><span class=\"u_cbox_ico_unrecomm\">싫어요</span><em class=\"u_cbox_cnt_unrecomm\">135</em></a></div></div><span class=\"u_cbox_comment_frame\"><span class=\"u_cbox_ico_tip\"></span><span class=\"u_cbox_comment_frame_top\"><span class=\"u_cbox_comment_bg_r\"></span><span class=\"u_cbox_comment_bg_l\"></span></span><span class=\"u_cbox_comment_frame_bottom\"><span class=\"u_cbox_comment_bg_r\"></span><span class=\"u_cbox_comment_bg_l\"></span></span></span></div></div>, <div class=\"u_cbox_comment_box\"><div class=\"u_cbox_area\"><div class=\"u_cbox_info\"><span class=\"u_cbox_info_main\"><span class=\"u_cbox_name\"><span class=\"u_cbox_name_area\"><span class=\"u_cbox_nick_area\"><span class=\"u_cbox_nick\">모두들안녕</span></span><span class=\"u_cbox_id_area\"><span class=\"u_cbox_id\">(pjs5****)</span></span></span></span></span><span class=\"u_cbox_info_sub\"><span class=\"u_cbox_work_sub\"><a class=\"u_cbox_btn_open\" data-action=\"list#toggleButtons\" data-param=\"@event\" href=\"#\"><span class=\"u_cbox_ico_open\"></span><span class=\"u_cbox_in_open\">옵션 열기</span></a><span class=\"u_cbox_work_box\"><span class=\"u_cbox_work_inner\"><a class=\"u_cbox_btn_userreport\" data-action=\"report#request\" data-log=\"RPC.report\" data-param=\"commentNo:'452803547',objectId:'183559_567'\" href=\"#\" target=\"_blank\"><span class=\"u_cbox_ico_block\"></span><span class=\"u_cbox_in_block\">신고</span></a><a class=\"u_cbox_btn_userblock\" data-action=\"userBlock#requestBlock\" data-param=\"commentNo:'452803547',objectId:'183559_567',nickName:'모두들안녕',maskedId:'pjs5****',idNo:'35Kl3',profileImageSrc:'https://ssl.pstatic.net/static.cbox/20230523152013/img/img_default_profile.gif'\" href=\"#\"><span class=\"u_cbox_ico_block\"></span><span class=\"u_cbox_in_block\">차단</span></a></span></span></span></span></div><div class=\"u_cbox_text_wrap\"><span class=\"u_cbox_ico_best\" style=\"\">BEST</span><span class=\"u_cbox_contents\" data-lang=\"ko\" style=\"\">'킹받네',  '반응속도보소',  '똥구더기'... 대사 수준 너무 처참하다</span><span class=\"u_cbox_ico_exclamation\" style=\"display:none;\"></span><span class=\"u_cbox_delete_contents\" style=\"display:none;\">내가 차단한 이용자의 댓글입니다.</span></div><div class=\"u_cbox_info_base\"><span class=\"u_cbox_date\" data-value=\"2023-04-03T07:14:43+0900\">2023-04-03 07:14</span></div><div class=\"u_cbox_tool\"><a aria-expanded=\"false\" class=\"u_cbox_btn_reply\" data-action=\"reply#toggle\" data-log=\"RPC.replyopen#RPC.replyclose\" data-param=\"452803547\" href=\"#\" role=\"button\"><strong class=\"u_cbox_reply_txt\">답글</strong><span class=\"u_cbox_reply_cnt\">14</span></a><div class=\"u_cbox_recomm_set\"><strong class=\"u_vc\">좋아요/싫어요</strong><a class=\"u_cbox_btn_recomm\" data-action=\"vote\" data-log=\"RPC.sym#RPC.unsym\" data-param=\"mine:false,commentNo:'452803547',voteStatus:'SYMPATHY',objectId:'183559_567',ticket:'comic'\" href=\"#\"><span class=\"u_cbox_ico_recomm\">좋아요</span><em class=\"u_cbox_cnt_recomm\">451</em></a><a class=\"u_cbox_btn_unrecomm\" data-action=\"vote\" data-log=\"RPC.dis#RPC.undis\" data-param=\"mine:false,commentNo:'452803547',voteStatus:'ANTIPATHY',objectId:'183559_567',ticket:'comic'\" href=\"#\"><span class=\"u_cbox_ico_unrecomm\">싫어요</span><em class=\"u_cbox_cnt_unrecomm\">96</em></a></div></div><span class=\"u_cbox_comment_frame\"><span class=\"u_cbox_ico_tip\"></span><span class=\"u_cbox_comment_frame_top\"><span class=\"u_cbox_comment_bg_r\"></span><span class=\"u_cbox_comment_bg_l\"></span></span><span class=\"u_cbox_comment_frame_bottom\"><span class=\"u_cbox_comment_bg_r\"></span><span class=\"u_cbox_comment_bg_l\"></span></span></span></div></div>, <div class=\"u_cbox_comment_box\"><div class=\"u_cbox_area\"><div class=\"u_cbox_info\"><span class=\"u_cbox_info_main\"><span class=\"u_cbox_name\"><span class=\"u_cbox_name_area\"><span class=\"u_cbox_nick_area\"><span class=\"u_cbox_nick\">가sp14</span></span><span class=\"u_cbox_id_area\"><span class=\"u_cbox_id\">(chan****)</span></span></span></span></span><span class=\"u_cbox_info_sub\"><span class=\"u_cbox_work_sub\"><a class=\"u_cbox_btn_open\" data-action=\"list#toggleButtons\" data-param=\"@event\" href=\"#\"><span class=\"u_cbox_ico_open\"></span><span class=\"u_cbox_in_open\">옵션 열기</span></a><span class=\"u_cbox_work_box\"><span class=\"u_cbox_work_inner\"><a class=\"u_cbox_btn_userreport\" data-action=\"report#request\" data-log=\"RPC.report\" data-param=\"commentNo:'452788301',objectId:'183559_567'\" href=\"#\" target=\"_blank\"><span class=\"u_cbox_ico_block\"></span><span class=\"u_cbox_in_block\">신고</span></a><a class=\"u_cbox_btn_userblock\" data-action=\"userBlock#requestBlock\" data-param=\"commentNo:'452788301',objectId:'183559_567',nickName:'가sp14',maskedId:'chan****',idNo:'5JAYB',profileImageSrc:'https://ssl.pstatic.net/static.cbox/20230523152013/img/img_default_profile.gif'\" href=\"#\"><span class=\"u_cbox_ico_block\"></span><span class=\"u_cbox_in_block\">차단</span></a></span></span></span></span></div><div class=\"u_cbox_text_wrap\"><span class=\"u_cbox_ico_best\" style=\"\">BEST</span><span class=\"u_cbox_contents\" data-lang=\"ko\" style=\"\">하가문 출신인 유리 자하드보다 머리가 단단할 정도면 얼마나 돌머린거지?</span><span class=\"u_cbox_ico_exclamation\" style=\"display:none;\"></span><span class=\"u_cbox_delete_contents\" style=\"display:none;\">내가 차단한 이용자의 댓글입니다.</span></div><div class=\"u_cbox_info_base\"><span class=\"u_cbox_date\" data-value=\"2023-04-02T23:09:00+0900\">2023-04-02 23:09</span></div><div class=\"u_cbox_tool\"><a aria-expanded=\"false\" class=\"u_cbox_btn_reply\" data-action=\"reply#toggle\" data-log=\"RPC.replyopen#RPC.replyclose\" data-param=\"452788301\" href=\"#\" role=\"button\"><strong class=\"u_cbox_reply_txt\">답글</strong><span class=\"u_cbox_reply_cnt\">7</span></a><div class=\"u_cbox_recomm_set\"><strong class=\"u_vc\">좋아요/싫어요</strong><a class=\"u_cbox_btn_recomm\" data-action=\"vote\" data-log=\"RPC.sym#RPC.unsym\" data-param=\"mine:false,commentNo:'452788301',voteStatus:'SYMPATHY',objectId:'183559_567',ticket:'comic'\" href=\"#\"><span class=\"u_cbox_ico_recomm\">좋아요</span><em class=\"u_cbox_cnt_recomm\">412</em></a><a class=\"u_cbox_btn_unrecomm\" data-action=\"vote\" data-log=\"RPC.dis#RPC.undis\" data-param=\"mine:false,commentNo:'452788301',voteStatus:'ANTIPATHY',objectId:'183559_567',ticket:'comic'\" href=\"#\"><span class=\"u_cbox_ico_unrecomm\">싫어요</span><em class=\"u_cbox_cnt_unrecomm\">13</em></a></div></div><span class=\"u_cbox_comment_frame\"><span class=\"u_cbox_ico_tip\"></span><span class=\"u_cbox_comment_frame_top\"><span class=\"u_cbox_comment_bg_r\"></span><span class=\"u_cbox_comment_bg_l\"></span></span><span class=\"u_cbox_comment_frame_bottom\"><span class=\"u_cbox_comment_bg_r\"></span><span class=\"u_cbox_comment_bg_l\"></span></span></span></div></div>, <div class=\"u_cbox_comment_box\"><div class=\"u_cbox_area\"><div class=\"u_cbox_info\"><span class=\"u_cbox_info_main\"><span class=\"u_cbox_name\"><span class=\"u_cbox_name_area\"><span class=\"u_cbox_nick_area\"><span class=\"u_cbox_nick\">글러먹었네</span></span><span class=\"u_cbox_id_area\"><span class=\"u_cbox_id\">(gj07****)</span></span></span></span></span><span class=\"u_cbox_info_sub\"><span class=\"u_cbox_work_sub\"><a class=\"u_cbox_btn_open\" data-action=\"list#toggleButtons\" data-param=\"@event\" href=\"#\"><span class=\"u_cbox_ico_open\"></span><span class=\"u_cbox_in_open\">옵션 열기</span></a><span class=\"u_cbox_work_box\"><span class=\"u_cbox_work_inner\"><a class=\"u_cbox_btn_userreport\" data-action=\"report#request\" data-log=\"RPC.report\" data-param=\"commentNo:'454902296',objectId:'183559_567'\" href=\"#\" target=\"_blank\"><span class=\"u_cbox_ico_block\"></span><span class=\"u_cbox_in_block\">신고</span></a><a class=\"u_cbox_btn_userblock\" data-action=\"userBlock#requestBlock\" data-param=\"commentNo:'454902296',objectId:'183559_567',nickName:'글러먹었네',maskedId:'gj07****',idNo:'4Tqym',profileImageSrc:'https://ssl.pstatic.net/static.cbox/20230523152013/img/img_default_profile.gif'\" href=\"#\"><span class=\"u_cbox_ico_block\"></span><span class=\"u_cbox_in_block\">차단</span></a></span></span></span></span></div><div class=\"u_cbox_text_wrap\"><span class=\"u_cbox_ico_best\" style=\"\">BEST</span><span class=\"u_cbox_contents\" data-lang=\"ko\" style=\"\">네이버웹툰도 걍 댓글 없어지면 안되나 이제는 뭔가 없는게 나을거 같기도한데</span><span class=\"u_cbox_ico_exclamation\" style=\"display:none;\"></span><span class=\"u_cbox_delete_contents\" style=\"display:none;\">내가 차단한 이용자의 댓글입니다.</span></div><div class=\"u_cbox_info_base\"><span class=\"u_cbox_date\" data-value=\"2023-05-28T23:41:08+0900\">3일 전</span></div><div class=\"u_cbox_tool\"><a aria-expanded=\"false\" class=\"u_cbox_btn_reply\" data-action=\"reply#toggle\" data-log=\"RPC.replyopen#RPC.replyclose\" data-param=\"454902296\" href=\"#\" role=\"button\"><strong class=\"u_cbox_reply_txt\">답글</strong><span class=\"u_cbox_reply_cnt\">25</span></a><div class=\"u_cbox_recomm_set\"><strong class=\"u_vc\">좋아요/싫어요</strong><a class=\"u_cbox_btn_recomm\" data-action=\"vote\" data-log=\"RPC.sym#RPC.unsym\" data-param=\"mine:false,commentNo:'454902296',voteStatus:'SYMPATHY',objectId:'183559_567',ticket:'comic'\" href=\"#\"><span class=\"u_cbox_ico_recomm\">좋아요</span><em class=\"u_cbox_cnt_recomm\">297</em></a><a class=\"u_cbox_btn_unrecomm\" data-action=\"vote\" data-log=\"RPC.dis#RPC.undis\" data-param=\"mine:false,commentNo:'454902296',voteStatus:'ANTIPATHY',objectId:'183559_567',ticket:'comic'\" href=\"#\"><span class=\"u_cbox_ico_unrecomm\">싫어요</span><em class=\"u_cbox_cnt_unrecomm\">71</em></a></div></div><span class=\"u_cbox_comment_frame\"><span class=\"u_cbox_ico_tip\"></span><span class=\"u_cbox_comment_frame_top\"><span class=\"u_cbox_comment_bg_r\"></span><span class=\"u_cbox_comment_bg_l\"></span></span><span class=\"u_cbox_comment_frame_bottom\"><span class=\"u_cbox_comment_bg_r\"></span><span class=\"u_cbox_comment_bg_l\"></span></span></span></div></div>, <div class=\"u_cbox_comment_box\"><div class=\"u_cbox_area\"><div class=\"u_cbox_info\"><span class=\"u_cbox_info_main\"><span class=\"u_cbox_name\"><span class=\"u_cbox_name_area\"><span class=\"u_cbox_nick_area\"><span class=\"u_cbox_nick\">dlc</span></span><span class=\"u_cbox_id_area\"><span class=\"u_cbox_id\">(dlck****)</span></span></span></span></span><span class=\"u_cbox_info_sub\"><span class=\"u_cbox_work_sub\"><a class=\"u_cbox_btn_open\" data-action=\"list#toggleButtons\" data-param=\"@event\" href=\"#\"><span class=\"u_cbox_ico_open\"></span><span class=\"u_cbox_in_open\">옵션 열기</span></a><span class=\"u_cbox_work_box\"><span class=\"u_cbox_work_inner\"><a class=\"u_cbox_btn_userreport\" data-action=\"report#request\" data-log=\"RPC.report\" data-param=\"commentNo:'452844470',objectId:'183559_567'\" href=\"#\" target=\"_blank\"><span class=\"u_cbox_ico_block\"></span><span class=\"u_cbox_in_block\">신고</span></a><a class=\"u_cbox_btn_userblock\" data-action=\"userBlock#requestBlock\" data-param=\"commentNo:'452844470',objectId:'183559_567',nickName:'dlc',maskedId:'dlck****',idNo:'cvsWx',profileImageSrc:'https://ssl.pstatic.net/static.cbox/20230523152013/img/img_default_profile.gif'\" href=\"#\"><span class=\"u_cbox_ico_block\"></span><span class=\"u_cbox_in_block\">차단</span></a></span></span></span></span></div><div class=\"u_cbox_text_wrap\"><span class=\"u_cbox_ico_best\" style=\"\">BEST</span><span class=\"u_cbox_contents\" data-lang=\"ko\" style=\"\">신의탑이 초기엔 진짜 일반 랭커들끼리만 싸워도 웅장했는데 지금은 솔직히 네임드 하이랭커끼리 붙어도 랭킹 100위권 내 하이랭커 아닌이상 엑스트라들의 대결같아서 이전 신의탑보다 조금 부족한 느낌을 받는 상태에서 캐릭터를 대사마저 가벼운 느낌이라 더 그렇게 와닿는거같아요 </span><span class=\"u_cbox_ico_exclamation\" style=\"display:none;\"></span><span class=\"u_cbox_delete_contents\" style=\"display:none;\">내가 차단한 이용자의 댓글입니다.</span></div><div class=\"u_cbox_info_base\"><span class=\"u_cbox_date\" data-value=\"2023-04-04T15:38:18+0900\">2023-04-04 15:38</span></div><div class=\"u_cbox_tool\"><a aria-expanded=\"false\" class=\"u_cbox_btn_reply\" data-action=\"reply#toggle\" data-log=\"RPC.replyopen#RPC.replyclose\" data-param=\"452844470\" href=\"#\" role=\"button\"><strong class=\"u_cbox_reply_txt\">답글</strong><span class=\"u_cbox_reply_cnt\">6</span></a><div class=\"u_cbox_recomm_set\"><strong class=\"u_vc\">좋아요/싫어요</strong><a class=\"u_cbox_btn_recomm\" data-action=\"vote\" data-log=\"RPC.sym#RPC.unsym\" data-param=\"mine:false,commentNo:'452844470',voteStatus:'SYMPATHY',objectId:'183559_567',ticket:'comic'\" href=\"#\"><span class=\"u_cbox_ico_recomm\">좋아요</span><em class=\"u_cbox_cnt_recomm\">284</em></a><a class=\"u_cbox_btn_unrecomm\" data-action=\"vote\" data-log=\"RPC.dis#RPC.undis\" data-param=\"mine:false,commentNo:'452844470',voteStatus:'ANTIPATHY',objectId:'183559_567',ticket:'comic'\" href=\"#\"><span class=\"u_cbox_ico_unrecomm\">싫어요</span><em class=\"u_cbox_cnt_unrecomm\">17</em></a></div></div><span class=\"u_cbox_comment_frame\"><span class=\"u_cbox_ico_tip\"></span><span class=\"u_cbox_comment_frame_top\"><span class=\"u_cbox_comment_bg_r\"></span><span class=\"u_cbox_comment_bg_l\"></span></span><span class=\"u_cbox_comment_frame_bottom\"><span class=\"u_cbox_comment_bg_r\"></span><span class=\"u_cbox_comment_bg_l\"></span></span></span></div></div>, <div class=\"u_cbox_comment_box\"><div class=\"u_cbox_area\"><div class=\"u_cbox_info\"><span class=\"u_cbox_info_main\"><span class=\"u_cbox_name\"><span class=\"u_cbox_name_area\"><span class=\"u_cbox_nick_area\"><span class=\"u_cbox_nick\">다물</span></span><span class=\"u_cbox_id_area\"><span class=\"u_cbox_id\">(pcsl****)</span></span></span></span></span><span class=\"u_cbox_info_sub\"><span class=\"u_cbox_work_sub\"><a class=\"u_cbox_btn_open\" data-action=\"list#toggleButtons\" data-param=\"@event\" href=\"#\"><span class=\"u_cbox_ico_open\"></span><span class=\"u_cbox_in_open\">옵션 열기</span></a><span class=\"u_cbox_work_box\"><span class=\"u_cbox_work_inner\"><a class=\"u_cbox_btn_userreport\" data-action=\"report#request\" data-log=\"RPC.report\" data-param=\"commentNo:'454916281',objectId:'183559_567'\" href=\"#\" target=\"_blank\"><span class=\"u_cbox_ico_block\"></span><span class=\"u_cbox_in_block\">신고</span></a><a class=\"u_cbox_btn_userblock\" data-action=\"userBlock#requestBlock\" data-param=\"commentNo:'454916281',objectId:'183559_567',nickName:'다물',maskedId:'pcsl****',idNo:'HpQa',profileImageSrc:'https://ssl.pstatic.net/static.cbox/20230523152013/img/img_default_profile.gif'\" href=\"#\"><span class=\"u_cbox_ico_block\"></span><span class=\"u_cbox_in_block\">차단</span></a></span></span></span></span></div><div class=\"u_cbox_text_wrap\"><span class=\"u_cbox_ico_best\" style=\"\">BEST</span><span class=\"u_cbox_contents\" data-lang=\"ko\" style=\"\">유리눈나 외모 너프먹은것같아 안타까운 1인 ㅠㅠ</span><span class=\"u_cbox_ico_exclamation\" style=\"display:none;\"></span><span class=\"u_cbox_delete_contents\" style=\"display:none;\">내가 차단한 이용자의 댓글입니다.</span></div><div class=\"u_cbox_info_base\"><span class=\"u_cbox_date\" data-value=\"2023-05-29T09:23:27+0900\">3일 전</span></div><div class=\"u_cbox_tool\"><a aria-expanded=\"false\" class=\"u_cbox_btn_reply\" data-action=\"reply#toggle\" data-log=\"RPC.replyopen#RPC.replyclose\" data-param=\"454916281\" href=\"#\" role=\"button\"><strong class=\"u_cbox_reply_txt\">답글</strong><span class=\"u_cbox_reply_cnt\">8</span></a><div class=\"u_cbox_recomm_set\"><strong class=\"u_vc\">좋아요/싫어요</strong><a class=\"u_cbox_btn_recomm\" data-action=\"vote\" data-log=\"RPC.sym#RPC.unsym\" data-param=\"mine:false,commentNo:'454916281',voteStatus:'SYMPATHY',objectId:'183559_567',ticket:'comic'\" href=\"#\"><span class=\"u_cbox_ico_recomm\">좋아요</span><em class=\"u_cbox_cnt_recomm\">278</em></a><a class=\"u_cbox_btn_unrecomm\" data-action=\"vote\" data-log=\"RPC.dis#RPC.undis\" data-param=\"mine:false,commentNo:'454916281',voteStatus:'ANTIPATHY',objectId:'183559_567',ticket:'comic'\" href=\"#\"><span class=\"u_cbox_ico_unrecomm\">싫어요</span><em class=\"u_cbox_cnt_unrecomm\">11</em></a></div></div><span class=\"u_cbox_comment_frame\"><span class=\"u_cbox_ico_tip\"></span><span class=\"u_cbox_comment_frame_top\"><span class=\"u_cbox_comment_bg_r\"></span><span class=\"u_cbox_comment_bg_l\"></span></span><span class=\"u_cbox_comment_frame_bottom\"><span class=\"u_cbox_comment_bg_r\"></span><span class=\"u_cbox_comment_bg_l\"></span></span></span></div></div>, <div class=\"u_cbox_comment_box\"><div class=\"u_cbox_area\"><div class=\"u_cbox_info\"><span class=\"u_cbox_info_main\"><span class=\"u_cbox_name\"><span class=\"u_cbox_name_area\"><span class=\"u_cbox_nick_area\"><span class=\"u_cbox_nick\">ansl****</span></span><span class=\"u_cbox_id_area\"><span class=\"u_cbox_id\">(ansl****)</span></span></span></span></span><span class=\"u_cbox_info_sub\"><span class=\"u_cbox_work_sub\"><a class=\"u_cbox_btn_open\" data-action=\"list#toggleButtons\" data-param=\"@event\" href=\"#\"><span class=\"u_cbox_ico_open\"></span><span class=\"u_cbox_in_open\">옵션 열기</span></a><span class=\"u_cbox_work_box\"><span class=\"u_cbox_work_inner\"><a class=\"u_cbox_btn_userreport\" data-action=\"report#request\" data-log=\"RPC.report\" data-param=\"commentNo:'454908766',objectId:'183559_567'\" href=\"#\" target=\"_blank\"><span class=\"u_cbox_ico_block\"></span><span class=\"u_cbox_in_block\">신고</span></a><a class=\"u_cbox_btn_userblock\" data-action=\"userBlock#requestBlock\" data-param=\"commentNo:'454908766',objectId:'183559_567',nickName:'ansl****',maskedId:'ansl****',idNo:'36D9E',profileImageSrc:'https://ssl.pstatic.net/static.cbox/20230523152013/img/img_default_profile.gif'\" href=\"#\"><span class=\"u_cbox_ico_block\"></span><span class=\"u_cbox_in_block\">차단</span></a></span></span></span></span></div><div class=\"u_cbox_text_wrap\"><span class=\"u_cbox_ico_best\" style=\"\">BEST</span><span class=\"u_cbox_contents\" data-lang=\"ko\" style=\"\">아니 근데 다른것 그렇다 치고 대사수준이 예전보다 너무 떨어짐</span><span class=\"u_cbox_ico_exclamation\" style=\"display:none;\"></span><span class=\"u_cbox_delete_contents\" style=\"display:none;\">내가 차단한 이용자의 댓글입니다.</span></div><div class=\"u_cbox_info_base\"><span class=\"u_cbox_date\" data-value=\"2023-05-29T01:24:29+0900\">3일 전</span></div><div class=\"u_cbox_tool\"><a aria-expanded=\"false\" class=\"u_cbox_btn_reply\" data-action=\"reply#toggle\" data-log=\"RPC.replyopen#RPC.replyclose\" data-param=\"454908766\" href=\"#\" role=\"button\"><strong class=\"u_cbox_reply_txt\">답글</strong><span class=\"u_cbox_reply_cnt\">6</span></a><div class=\"u_cbox_recomm_set\"><strong class=\"u_vc\">좋아요/싫어요</strong><a class=\"u_cbox_btn_recomm\" data-action=\"vote\" data-log=\"RPC.sym#RPC.unsym\" data-param=\"mine:false,commentNo:'454908766',voteStatus:'SYMPATHY',objectId:'183559_567',ticket:'comic'\" href=\"#\"><span class=\"u_cbox_ico_recomm\">좋아요</span><em class=\"u_cbox_cnt_recomm\">252</em></a><a class=\"u_cbox_btn_unrecomm\" data-action=\"vote\" data-log=\"RPC.dis#RPC.undis\" data-param=\"mine:false,commentNo:'454908766',voteStatus:'ANTIPATHY',objectId:'183559_567',ticket:'comic'\" href=\"#\"><span class=\"u_cbox_ico_unrecomm\">싫어요</span><em class=\"u_cbox_cnt_unrecomm\">47</em></a></div></div><span class=\"u_cbox_comment_frame\"><span class=\"u_cbox_ico_tip\"></span><span class=\"u_cbox_comment_frame_top\"><span class=\"u_cbox_comment_bg_r\"></span><span class=\"u_cbox_comment_bg_l\"></span></span><span class=\"u_cbox_comment_frame_bottom\"><span class=\"u_cbox_comment_bg_r\"></span><span class=\"u_cbox_comment_bg_l\"></span></span></span></div></div>]\n"
     ]
    }
   ],
   "source": [
    "comment_area = soup.findAll('div', {'class', 'u_cbox_comment_box'})\n",
    "print(comment_area)"
   ]
  },
  {
   "cell_type": "code",
   "execution_count": 23,
   "id": "11824227",
   "metadata": {},
   "outputs": [
    {
     "name": "stdout",
     "output_type": "stream",
     "text": [
      "*****베댓******\n"
     ]
    },
    {
     "ename": "NameError",
     "evalue": "name 'commnet_area' is not defined",
     "output_type": "error",
     "traceback": [
      "\u001b[1;31m---------------------------------------------------------------------------\u001b[0m",
      "\u001b[1;31mNameError\u001b[0m                                 Traceback (most recent call last)",
      "Cell \u001b[1;32mIn[23], line 3\u001b[0m\n\u001b[0;32m      1\u001b[0m \u001b[38;5;28mprint\u001b[39m(\u001b[38;5;124m'\u001b[39m\u001b[38;5;124m*****베댓******\u001b[39m\u001b[38;5;124m'\u001b[39m)\n\u001b[0;32m      2\u001b[0m \u001b[38;5;28;01mfor\u001b[39;00m i \u001b[38;5;129;01min\u001b[39;00m \u001b[38;5;28mrange\u001b[39m(\u001b[38;5;28mlen\u001b[39m(comment_area)):\n\u001b[1;32m----> 3\u001b[0m     comment \u001b[38;5;241m=\u001b[39m \u001b[43mcommnet_area\u001b[49m[i]\u001b[38;5;241m.\u001b[39mtext\u001b[38;5;241m.\u001b[39mstrip()\n\u001b[0;32m      4\u001b[0m     \u001b[38;5;28mprint\u001b[39m(commnet)\n\u001b[0;32m      5\u001b[0m     \u001b[38;5;28mprint\u001b[39m(\u001b[38;5;124m'\u001b[39m\u001b[38;5;124m-\u001b[39m\u001b[38;5;124m'\u001b[39m\u001b[38;5;241m*\u001b[39m\u001b[38;5;241m30\u001b[39m)\n",
      "\u001b[1;31mNameError\u001b[0m: name 'commnet_area' is not defined"
     ]
    }
   ],
   "source": [
    "print('*****베댓******')\n",
    "for i in range(len(comment_area)):\n",
    "    comment = commnet_area[i].text.strip()\n",
    "    print(commnet)\n",
    "    print('-'*30)"
   ]
  },
  {
   "cell_type": "markdown",
   "id": "8774cc2d",
   "metadata": {},
   "source": [
    "* XPath: 기존의 컴퓨터 파일 시스템에서 사용하는 경로 표현식과 유사한 XML의 경로 언어"
   ]
  },
  {
   "cell_type": "code",
   "execution_count": 24,
   "id": "9fda1b6d",
   "metadata": {},
   "outputs": [
    {
     "ename": "NoSuchElementException",
     "evalue": "Message: no such element: Unable to locate element: {\"method\":\"xpath\",\"selector\":\"/html/body/div[1]/div[5]/div/div/div[4]/div[1]/div[3]/div/div/div[8]/a/span[1]\"}\n  (Session info: chrome=114.0.5735.91)\nStacktrace:\nBacktrace:\n\tGetHandleVerifier [0x010CA813+48355]\n\t(No symbol) [0x0105C4B1]\n\t(No symbol) [0x00F65358]\n\t(No symbol) [0x00F909A5]\n\t(No symbol) [0x00F90B3B]\n\t(No symbol) [0x00FBE232]\n\t(No symbol) [0x00FAA784]\n\t(No symbol) [0x00FBC922]\n\t(No symbol) [0x00FAA536]\n\t(No symbol) [0x00F882DC]\n\t(No symbol) [0x00F893DD]\n\tGetHandleVerifier [0x0132AABD+2539405]\n\tGetHandleVerifier [0x0136A78F+2800735]\n\tGetHandleVerifier [0x0136456C+2775612]\n\tGetHandleVerifier [0x011551E0+616112]\n\t(No symbol) [0x01065F8C]\n\t(No symbol) [0x01062328]\n\t(No symbol) [0x0106240B]\n\t(No symbol) [0x01054FF7]\n\tBaseThreadInitThunk [0x773900F9+25]\n\tRtlGetAppContainerNamedObjectPath [0x77BD7BBE+286]\n\tRtlGetAppContainerNamedObjectPath [0x77BD7B8E+238]\n",
     "output_type": "error",
     "traceback": [
      "\u001b[1;31m---------------------------------------------------------------------------\u001b[0m",
      "\u001b[1;31mNoSuchElementException\u001b[0m                    Traceback (most recent call last)",
      "Cell \u001b[1;32mIn[24], line 1\u001b[0m\n\u001b[1;32m----> 1\u001b[0m \u001b[43mdriver\u001b[49m\u001b[38;5;241;43m.\u001b[39;49m\u001b[43mfind_element\u001b[49m\u001b[43m(\u001b[49m\u001b[38;5;124;43m'\u001b[39;49m\u001b[38;5;124;43mxpath\u001b[39;49m\u001b[38;5;124;43m'\u001b[39;49m\u001b[43m,\u001b[49m\u001b[43m \u001b[49m\u001b[38;5;124;43m'\u001b[39;49m\u001b[38;5;124;43m/html/body/div[1]/div[5]/div/div/div[4]/div[1]/div[3]/div/div/div[8]/a/span[1]\u001b[39;49m\u001b[38;5;124;43m'\u001b[39;49m\u001b[43m)\u001b[49m\u001b[38;5;241m.\u001b[39mclick()\n",
      "File \u001b[1;32m~\\AppData\\Local\\Programs\\Python\\Python38\\lib\\site-packages\\selenium\\webdriver\\remote\\webdriver.py:831\u001b[0m, in \u001b[0;36mWebDriver.find_element\u001b[1;34m(self, by, value)\u001b[0m\n\u001b[0;32m    828\u001b[0m     by \u001b[38;5;241m=\u001b[39m By\u001b[38;5;241m.\u001b[39mCSS_SELECTOR\n\u001b[0;32m    829\u001b[0m     value \u001b[38;5;241m=\u001b[39m \u001b[38;5;124mf\u001b[39m\u001b[38;5;124m'\u001b[39m\u001b[38;5;124m[name=\u001b[39m\u001b[38;5;124m\"\u001b[39m\u001b[38;5;132;01m{\u001b[39;00mvalue\u001b[38;5;132;01m}\u001b[39;00m\u001b[38;5;124m\"\u001b[39m\u001b[38;5;124m]\u001b[39m\u001b[38;5;124m'\u001b[39m\n\u001b[1;32m--> 831\u001b[0m \u001b[38;5;28;01mreturn\u001b[39;00m \u001b[38;5;28;43mself\u001b[39;49m\u001b[38;5;241;43m.\u001b[39;49m\u001b[43mexecute\u001b[49m\u001b[43m(\u001b[49m\u001b[43mCommand\u001b[49m\u001b[38;5;241;43m.\u001b[39;49m\u001b[43mFIND_ELEMENT\u001b[49m\u001b[43m,\u001b[49m\u001b[43m \u001b[49m\u001b[43m{\u001b[49m\u001b[38;5;124;43m\"\u001b[39;49m\u001b[38;5;124;43musing\u001b[39;49m\u001b[38;5;124;43m\"\u001b[39;49m\u001b[43m:\u001b[49m\u001b[43m \u001b[49m\u001b[43mby\u001b[49m\u001b[43m,\u001b[49m\u001b[43m \u001b[49m\u001b[38;5;124;43m\"\u001b[39;49m\u001b[38;5;124;43mvalue\u001b[39;49m\u001b[38;5;124;43m\"\u001b[39;49m\u001b[43m:\u001b[49m\u001b[43m \u001b[49m\u001b[43mvalue\u001b[49m\u001b[43m}\u001b[49m\u001b[43m)\u001b[49m[\u001b[38;5;124m\"\u001b[39m\u001b[38;5;124mvalue\u001b[39m\u001b[38;5;124m\"\u001b[39m]\n",
      "File \u001b[1;32m~\\AppData\\Local\\Programs\\Python\\Python38\\lib\\site-packages\\selenium\\webdriver\\remote\\webdriver.py:440\u001b[0m, in \u001b[0;36mWebDriver.execute\u001b[1;34m(self, driver_command, params)\u001b[0m\n\u001b[0;32m    438\u001b[0m response \u001b[38;5;241m=\u001b[39m \u001b[38;5;28mself\u001b[39m\u001b[38;5;241m.\u001b[39mcommand_executor\u001b[38;5;241m.\u001b[39mexecute(driver_command, params)\n\u001b[0;32m    439\u001b[0m \u001b[38;5;28;01mif\u001b[39;00m response:\n\u001b[1;32m--> 440\u001b[0m     \u001b[38;5;28;43mself\u001b[39;49m\u001b[38;5;241;43m.\u001b[39;49m\u001b[43merror_handler\u001b[49m\u001b[38;5;241;43m.\u001b[39;49m\u001b[43mcheck_response\u001b[49m\u001b[43m(\u001b[49m\u001b[43mresponse\u001b[49m\u001b[43m)\u001b[49m\n\u001b[0;32m    441\u001b[0m     response[\u001b[38;5;124m\"\u001b[39m\u001b[38;5;124mvalue\u001b[39m\u001b[38;5;124m\"\u001b[39m] \u001b[38;5;241m=\u001b[39m \u001b[38;5;28mself\u001b[39m\u001b[38;5;241m.\u001b[39m_unwrap_value(response\u001b[38;5;241m.\u001b[39mget(\u001b[38;5;124m\"\u001b[39m\u001b[38;5;124mvalue\u001b[39m\u001b[38;5;124m\"\u001b[39m, \u001b[38;5;28;01mNone\u001b[39;00m))\n\u001b[0;32m    442\u001b[0m     \u001b[38;5;28;01mreturn\u001b[39;00m response\n",
      "File \u001b[1;32m~\\AppData\\Local\\Programs\\Python\\Python38\\lib\\site-packages\\selenium\\webdriver\\remote\\errorhandler.py:245\u001b[0m, in \u001b[0;36mErrorHandler.check_response\u001b[1;34m(self, response)\u001b[0m\n\u001b[0;32m    243\u001b[0m         alert_text \u001b[38;5;241m=\u001b[39m value[\u001b[38;5;124m\"\u001b[39m\u001b[38;5;124malert\u001b[39m\u001b[38;5;124m\"\u001b[39m]\u001b[38;5;241m.\u001b[39mget(\u001b[38;5;124m\"\u001b[39m\u001b[38;5;124mtext\u001b[39m\u001b[38;5;124m\"\u001b[39m)\n\u001b[0;32m    244\u001b[0m     \u001b[38;5;28;01mraise\u001b[39;00m exception_class(message, screen, stacktrace, alert_text)  \u001b[38;5;66;03m# type: ignore[call-arg]  # mypy is not smart enough here\u001b[39;00m\n\u001b[1;32m--> 245\u001b[0m \u001b[38;5;28;01mraise\u001b[39;00m exception_class(message, screen, stacktrace)\n",
      "\u001b[1;31mNoSuchElementException\u001b[0m: Message: no such element: Unable to locate element: {\"method\":\"xpath\",\"selector\":\"/html/body/div[1]/div[5]/div/div/div[4]/div[1]/div[3]/div/div/div[8]/a/span[1]\"}\n  (Session info: chrome=114.0.5735.91)\nStacktrace:\nBacktrace:\n\tGetHandleVerifier [0x010CA813+48355]\n\t(No symbol) [0x0105C4B1]\n\t(No symbol) [0x00F65358]\n\t(No symbol) [0x00F909A5]\n\t(No symbol) [0x00F90B3B]\n\t(No symbol) [0x00FBE232]\n\t(No symbol) [0x00FAA784]\n\t(No symbol) [0x00FBC922]\n\t(No symbol) [0x00FAA536]\n\t(No symbol) [0x00F882DC]\n\t(No symbol) [0x00F893DD]\n\tGetHandleVerifier [0x0132AABD+2539405]\n\tGetHandleVerifier [0x0136A78F+2800735]\n\tGetHandleVerifier [0x0136456C+2775612]\n\tGetHandleVerifier [0x011551E0+616112]\n\t(No symbol) [0x01065F8C]\n\t(No symbol) [0x01062328]\n\t(No symbol) [0x0106240B]\n\t(No symbol) [0x01054FF7]\n\tBaseThreadInitThunk [0x773900F9+25]\n\tRtlGetAppContainerNamedObjectPath [0x77BD7BBE+286]\n\tRtlGetAppContainerNamedObjectPath [0x77BD7B8E+238]\n"
     ]
    }
   ],
   "source": [
    "driver.find_element('xpath', '/html/body/div[1]/div[5]/div/div/div[4]/div[1]/div[3]/div/div/div[8]/a/span[1]').click()"
   ]
  },
  {
   "cell_type": "code",
   "execution_count": null,
   "id": "72af2770",
   "metadata": {},
   "outputs": [],
   "source": []
  }
 ],
 "metadata": {
  "kernelspec": {
   "display_name": "Python 3 (ipykernel)",
   "language": "python",
   "name": "python3"
  },
  "language_info": {
   "codemirror_mode": {
    "name": "ipython",
    "version": 3
   },
   "file_extension": ".py",
   "mimetype": "text/x-python",
   "name": "python",
   "nbconvert_exporter": "python",
   "pygments_lexer": "ipython3",
   "version": "3.8.0"
  }
 },
 "nbformat": 4,
 "nbformat_minor": 5
}
