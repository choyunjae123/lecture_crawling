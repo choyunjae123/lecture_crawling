{
 "cells": [
  {
   "cell_type": "markdown",
   "id": "f529b8c4",
   "metadata": {},
   "source": [
    "#1. 로그인"
   ]
  },
  {
   "cell_type": "code",
   "execution_count": 1,
   "id": "3ed1b1a0",
   "metadata": {},
   "outputs": [],
   "source": [
    "import chromedriver_autoinstaller\n",
    "import time\n",
    "from selenium import webdriver\n",
    "from selenium.webdriver.common.by import By"
   ]
  },
  {
   "cell_type": "code",
   "execution_count": 2,
   "id": "8993756a",
   "metadata": {},
   "outputs": [],
   "source": [
    "driver = webdriver.Chrome()"
   ]
  },
  {
   "cell_type": "code",
   "execution_count": 3,
   "id": "cf571a46",
   "metadata": {},
   "outputs": [],
   "source": [
    "# 로그인, 비밀번호 입력 후 로그인\n",
    "\n",
    "driver.implicitly_wait(3) \n",
    "# 웹 요소를 찾을 때 최대 3초 동안 대기하고, 3초 이내에 웹 요소가 나타나면 즉시 다음 동작을 수행합니다. 만약 3초가 지나도 웹 요소가 나타나지 않으면 NoSuchElement 예외가 발생\n",
    "url = 'https://www.instagram.com/'\n",
    "driver.get(url)\n",
    "\n",
    "id = 'junehee042@gmail.com'\n",
    "pw = 'ckato**1199'\n",
    "\n",
    "# ID와 PW의 XPath 경로\n",
    "#/html/body/div[2]/div/div/div[1]/div/div/div/div[1]/section/main/article/div[2]/div[1]/div[2]/form/div/div[1]/div/label/input\n",
    "#/html/body/div[2]/div/div/div[1]/div/div/div/div[1]/section/main/article/div[2]/div[1]/div[2]/form/div/div[2]/div/label/input\n",
    "input_id = driver.find_element(By.XPATH, '/html/body/div[2]/div/div/div[1]/div/div/div/div[1]/section/main/article/div[2]/div[1]/div[2]/form/div/div[1]/div/label/input')\n",
    "input_pw = driver.find_element(By.XPATH, '/html/body/div[2]/div/div/div[1]/div/div/div/div[1]/section/main/article/div[2]/div[1]/div[2]/form/div/div[2]/div/label/input')\n",
    "input_id.send_keys(id)\n",
    "input_pw.send_keys(pw)\n",
    "driver.find_element(By.XPATH, '/html/body/div[2]/div/div/div[1]/div/div/div/div[1]/section/main/article/div[2]/div[1]/div[2]/form/div/div[3]').click()\n",
    "time.sleep(5) # 5초정도 대기할 수 있도록"
   ]
  },
  {
   "cell_type": "code",
   "execution_count": 4,
   "id": "fdde4abf",
   "metadata": {},
   "outputs": [],
   "source": [
    "# 해시태그 검색\n",
    "hashtag = '먹스타그램'\n",
    "url = f'https://www.instagram.com/explore/tags/{hashtag}/'\n",
    "driver.get(url)\n",
    "time.sleep(5)"
   ]
  },
  {
   "cell_type": "code",
   "execution_count": 5,
   "id": "8d249c94",
   "metadata": {},
   "outputs": [],
   "source": [
    "# 스크롤 내리기\n",
    "for _ in range(5): # 5번만 내리기\n",
    "    driver.execute_script('window.scrollTo(0,document.body.scrollHeight)')\n",
    "    time.sleep(5)"
   ]
  },
  {
   "cell_type": "code",
   "execution_count": 6,
   "id": "e0e4c641",
   "metadata": {},
   "outputs": [],
   "source": [
    "# 원하는 사진 클릭하기\n",
    "xpath = '/html/body/div[2]/div/div/div[2]/div/div/div/div[1]/div[1]/div[2]/section/main/article/div/div/div/div[2]/div[2]/a/div[1]'\n",
    "driver.find_element(By.XPATH, xpath).click()\n",
    "time.sleep(3)"
   ]
  },
  {
   "cell_type": "code",
   "execution_count": 7,
   "id": "bc75938d",
   "metadata": {},
   "outputs": [
    {
     "ename": "NoSuchElementException",
     "evalue": "Message: no such element: Unable to locate element: {\"method\":\"xpath\",\"selector\":\"/html/body/div[2]/div/div/div[2]/div/div/div/div[1]/div[1]/div[2]/section/main/div/div[1]/div/div[2]/div/div[3]/div[1]/div[1]/span[1]/button\"}\n  (Session info: chrome=114.0.5735.91)\nStacktrace:\nBacktrace:\n\tGetHandleVerifier [0x010AA813+48355]\n\t(No symbol) [0x0103C4B1]\n\t(No symbol) [0x00F45358]\n\t(No symbol) [0x00F709A5]\n\t(No symbol) [0x00F70B3B]\n\t(No symbol) [0x00F9E232]\n\t(No symbol) [0x00F8A784]\n\t(No symbol) [0x00F9C922]\n\t(No symbol) [0x00F8A536]\n\t(No symbol) [0x00F682DC]\n\t(No symbol) [0x00F693DD]\n\tGetHandleVerifier [0x0130AABD+2539405]\n\tGetHandleVerifier [0x0134A78F+2800735]\n\tGetHandleVerifier [0x0134456C+2775612]\n\tGetHandleVerifier [0x011351E0+616112]\n\t(No symbol) [0x01045F8C]\n\t(No symbol) [0x01042328]\n\t(No symbol) [0x0104240B]\n\t(No symbol) [0x01034FF7]\n\tBaseThreadInitThunk [0x75A300F9+25]\n\tRtlGetAppContainerNamedObjectPath [0x77587BBE+286]\n\tRtlGetAppContainerNamedObjectPath [0x77587B8E+238]\n",
     "output_type": "error",
     "traceback": [
      "\u001b[1;31m---------------------------------------------------------------------------\u001b[0m",
      "\u001b[1;31mNoSuchElementException\u001b[0m                    Traceback (most recent call last)",
      "Cell \u001b[1;32mIn[7], line 3\u001b[0m\n\u001b[0;32m      1\u001b[0m \u001b[38;5;66;03m# 좋아요 클릭하기\u001b[39;00m\n\u001b[0;32m      2\u001b[0m like_xpath \u001b[38;5;241m=\u001b[39m \u001b[38;5;124m'\u001b[39m\u001b[38;5;124m/html/body/div[2]/div/div/div[2]/div/div/div/div[1]/div[1]/div[2]/section/main/div/div[1]/div/div[2]/div/div[3]/div[1]/div[1]/span[1]/button\u001b[39m\u001b[38;5;124m'\u001b[39m\n\u001b[1;32m----> 3\u001b[0m \u001b[43mdriver\u001b[49m\u001b[38;5;241;43m.\u001b[39;49m\u001b[43mfind_element\u001b[49m\u001b[43m(\u001b[49m\u001b[43mBy\u001b[49m\u001b[38;5;241;43m.\u001b[39;49m\u001b[43mXPATH\u001b[49m\u001b[43m,\u001b[49m\u001b[43m \u001b[49m\u001b[43mlike_xpath\u001b[49m\u001b[43m)\u001b[49m\u001b[38;5;241m.\u001b[39mclick()\n\u001b[0;32m      4\u001b[0m time\u001b[38;5;241m.\u001b[39msleep(\u001b[38;5;241m1\u001b[39m)\n",
      "File \u001b[1;32m~\\AppData\\Local\\Programs\\Python\\Python38\\lib\\site-packages\\selenium\\webdriver\\remote\\webdriver.py:831\u001b[0m, in \u001b[0;36mWebDriver.find_element\u001b[1;34m(self, by, value)\u001b[0m\n\u001b[0;32m    828\u001b[0m     by \u001b[38;5;241m=\u001b[39m By\u001b[38;5;241m.\u001b[39mCSS_SELECTOR\n\u001b[0;32m    829\u001b[0m     value \u001b[38;5;241m=\u001b[39m \u001b[38;5;124mf\u001b[39m\u001b[38;5;124m'\u001b[39m\u001b[38;5;124m[name=\u001b[39m\u001b[38;5;124m\"\u001b[39m\u001b[38;5;132;01m{\u001b[39;00mvalue\u001b[38;5;132;01m}\u001b[39;00m\u001b[38;5;124m\"\u001b[39m\u001b[38;5;124m]\u001b[39m\u001b[38;5;124m'\u001b[39m\n\u001b[1;32m--> 831\u001b[0m \u001b[38;5;28;01mreturn\u001b[39;00m \u001b[38;5;28;43mself\u001b[39;49m\u001b[38;5;241;43m.\u001b[39;49m\u001b[43mexecute\u001b[49m\u001b[43m(\u001b[49m\u001b[43mCommand\u001b[49m\u001b[38;5;241;43m.\u001b[39;49m\u001b[43mFIND_ELEMENT\u001b[49m\u001b[43m,\u001b[49m\u001b[43m \u001b[49m\u001b[43m{\u001b[49m\u001b[38;5;124;43m\"\u001b[39;49m\u001b[38;5;124;43musing\u001b[39;49m\u001b[38;5;124;43m\"\u001b[39;49m\u001b[43m:\u001b[49m\u001b[43m \u001b[49m\u001b[43mby\u001b[49m\u001b[43m,\u001b[49m\u001b[43m \u001b[49m\u001b[38;5;124;43m\"\u001b[39;49m\u001b[38;5;124;43mvalue\u001b[39;49m\u001b[38;5;124;43m\"\u001b[39;49m\u001b[43m:\u001b[49m\u001b[43m \u001b[49m\u001b[43mvalue\u001b[49m\u001b[43m}\u001b[49m\u001b[43m)\u001b[49m[\u001b[38;5;124m\"\u001b[39m\u001b[38;5;124mvalue\u001b[39m\u001b[38;5;124m\"\u001b[39m]\n",
      "File \u001b[1;32m~\\AppData\\Local\\Programs\\Python\\Python38\\lib\\site-packages\\selenium\\webdriver\\remote\\webdriver.py:440\u001b[0m, in \u001b[0;36mWebDriver.execute\u001b[1;34m(self, driver_command, params)\u001b[0m\n\u001b[0;32m    438\u001b[0m response \u001b[38;5;241m=\u001b[39m \u001b[38;5;28mself\u001b[39m\u001b[38;5;241m.\u001b[39mcommand_executor\u001b[38;5;241m.\u001b[39mexecute(driver_command, params)\n\u001b[0;32m    439\u001b[0m \u001b[38;5;28;01mif\u001b[39;00m response:\n\u001b[1;32m--> 440\u001b[0m     \u001b[38;5;28;43mself\u001b[39;49m\u001b[38;5;241;43m.\u001b[39;49m\u001b[43merror_handler\u001b[49m\u001b[38;5;241;43m.\u001b[39;49m\u001b[43mcheck_response\u001b[49m\u001b[43m(\u001b[49m\u001b[43mresponse\u001b[49m\u001b[43m)\u001b[49m\n\u001b[0;32m    441\u001b[0m     response[\u001b[38;5;124m\"\u001b[39m\u001b[38;5;124mvalue\u001b[39m\u001b[38;5;124m\"\u001b[39m] \u001b[38;5;241m=\u001b[39m \u001b[38;5;28mself\u001b[39m\u001b[38;5;241m.\u001b[39m_unwrap_value(response\u001b[38;5;241m.\u001b[39mget(\u001b[38;5;124m\"\u001b[39m\u001b[38;5;124mvalue\u001b[39m\u001b[38;5;124m\"\u001b[39m, \u001b[38;5;28;01mNone\u001b[39;00m))\n\u001b[0;32m    442\u001b[0m     \u001b[38;5;28;01mreturn\u001b[39;00m response\n",
      "File \u001b[1;32m~\\AppData\\Local\\Programs\\Python\\Python38\\lib\\site-packages\\selenium\\webdriver\\remote\\errorhandler.py:245\u001b[0m, in \u001b[0;36mErrorHandler.check_response\u001b[1;34m(self, response)\u001b[0m\n\u001b[0;32m    243\u001b[0m         alert_text \u001b[38;5;241m=\u001b[39m value[\u001b[38;5;124m\"\u001b[39m\u001b[38;5;124malert\u001b[39m\u001b[38;5;124m\"\u001b[39m]\u001b[38;5;241m.\u001b[39mget(\u001b[38;5;124m\"\u001b[39m\u001b[38;5;124mtext\u001b[39m\u001b[38;5;124m\"\u001b[39m)\n\u001b[0;32m    244\u001b[0m     \u001b[38;5;28;01mraise\u001b[39;00m exception_class(message, screen, stacktrace, alert_text)  \u001b[38;5;66;03m# type: ignore[call-arg]  # mypy is not smart enough here\u001b[39;00m\n\u001b[1;32m--> 245\u001b[0m \u001b[38;5;28;01mraise\u001b[39;00m exception_class(message, screen, stacktrace)\n",
      "\u001b[1;31mNoSuchElementException\u001b[0m: Message: no such element: Unable to locate element: {\"method\":\"xpath\",\"selector\":\"/html/body/div[2]/div/div/div[2]/div/div/div/div[1]/div[1]/div[2]/section/main/div/div[1]/div/div[2]/div/div[3]/div[1]/div[1]/span[1]/button\"}\n  (Session info: chrome=114.0.5735.91)\nStacktrace:\nBacktrace:\n\tGetHandleVerifier [0x010AA813+48355]\n\t(No symbol) [0x0103C4B1]\n\t(No symbol) [0x00F45358]\n\t(No symbol) [0x00F709A5]\n\t(No symbol) [0x00F70B3B]\n\t(No symbol) [0x00F9E232]\n\t(No symbol) [0x00F8A784]\n\t(No symbol) [0x00F9C922]\n\t(No symbol) [0x00F8A536]\n\t(No symbol) [0x00F682DC]\n\t(No symbol) [0x00F693DD]\n\tGetHandleVerifier [0x0130AABD+2539405]\n\tGetHandleVerifier [0x0134A78F+2800735]\n\tGetHandleVerifier [0x0134456C+2775612]\n\tGetHandleVerifier [0x011351E0+616112]\n\t(No symbol) [0x01045F8C]\n\t(No symbol) [0x01042328]\n\t(No symbol) [0x0104240B]\n\t(No symbol) [0x01034FF7]\n\tBaseThreadInitThunk [0x75A300F9+25]\n\tRtlGetAppContainerNamedObjectPath [0x77587BBE+286]\n\tRtlGetAppContainerNamedObjectPath [0x77587B8E+238]\n"
     ]
    }
   ],
   "source": [
    "# 좋아요 클릭하기\n",
    "like_xpath = '/html/body/div[2]/div/div/div[2]/div/div/div/div[1]/div[1]/div[2]/section/main/div/div[1]/div/div[2]/div/div[3]/div[1]/div[1]/span[1]/button'\n",
    "driver.find_element(By.XPATH, like_xpath).click()\n",
    "time.sleep(1)"
   ]
  },
  {
   "cell_type": "code",
   "execution_count": null,
   "id": "6cfb1fac",
   "metadata": {},
   "outputs": [],
   "source": [
    "# 댓글달기\n",
    "comment = '잘보고갑니다.'\n",
    "comment_xpath = '/html/body/div[2]/div/div/div[2]/div/div/div/div[1]/div[1]/div[2]/section/main/div/div[1]/div/div[2]/div/section/div/form/div/textarea'\n",
    "driver.find_element(By.XPATH, comment_xpath).click() # 한번 클릭을 해주고 나서 작성을 하는 것이 자연스러움\n",
    "driver.find_element(By.XPATH, comment_xpath).send_keys(comment)\n",
    "time.sleep(3)"
   ]
  },
  {
   "cell_type": "code",
   "execution_count": null,
   "id": "b656aff8",
   "metadata": {},
   "outputs": [],
   "source": [
    "# 전송버튼 클릭하기\n",
    "send_xpath = '/html/body/div[2]/div/div/div[2]/div/div/div/div[1]/div[1]/div[2]/section/main/div/div[1]/div/div[2]/div/section/div/form/div/div[2]/div'\n",
    "driver.find_element(By.XPATH, send_xpath).click()\n",
    "time.sleep(3)"
   ]
  },
  {
   "cell_type": "code",
   "execution_count": null,
   "id": "12f52513",
   "metadata": {},
   "outputs": [],
   "source": [
    "# 다음버튼 클릭하기\n",
    "next_xpath = '/html/body/div[2]/div/div/div[2]/div/div/div/div[1]/div[1]/div[2]/section/main/div/div[1]/div/div[1]/div/div/div/div/div/div[1]/div[2]/div/button'\n",
    "driver.find_element(By.XPATH, next_xpath).click()\n",
    "time.sleep(3)"
   ]
  },
  {
   "cell_type": "markdown",
   "id": "18cded7a",
   "metadata": {},
   "source": [
    "#6. 함수로 리팩토링"
   ]
  },
  {
   "cell_type": "code",
   "execution_count": null,
   "id": "834a5d8d",
   "metadata": {},
   "outputs": [],
   "source": [
    "# 로그인\n",
    "# 해시태그 검색\n",
    "# 좋아요 및 댓글달기 (어떤 사진을 선택할지를 index, 댓글, 반복숫자)\n",
    "\n",
    "\n",
    "def login(id, pw):\n",
    "    input_id = driver.find_element(By.XPATH, '/html/body/div[2]/div/div/div[1]/div/div/div/div[1]/section/main/article/div[2]/div[1]/div[2]/form/div/div[1]/div/label/input')\n",
    "    input_pw = driver.find_element(By.XPATH, '/html/body/div[2]/div/div/div[1]/div/div/div/div[1]/section/main/article/div[2]/div[1]/div[2]/form/div/div[2]/div/label/input')\n",
    "    input_id.send_keys(id)\n",
    "    input_pw.send_keys(pw)\n",
    "    driver.find_element(By.XPATH, '/html/body/div[2]/div/div/div[1]/div/div/div/div[1]/section/main/article/div[2]/div[1]/div[2]/form/div/div[3]').click()\n",
    "    time.sleep(3) \n",
    "    \n",
    "def search(hashtag, scroll_times):\n",
    "    url = f'https://www.instagram.com/explore/tags/{hashtag}/'\n",
    "    driver.get(url)\n",
    "    time.sleep(3)\n",
    "    for _ in range(scroll_times):\n",
    "        driver.execute_script('window.scrollTo(0,document.body.scrollHeight)')\n",
    "        time.sleep(3)\n",
    "    \n",
    "def like_and_comment(nth, commnet, repeat=1):\n",
    "    row = (nth-1) // 3 + 1\n",
    "    col = (nth-1) % 3 + 1\n",
    "    # 원하는 사진 클릭하기\n",
    "    xpath = '/html/body/div[2]/div/div/div[2]/div/div/div/div[1]/div[1]/div[2]/section/main/article/div/div/div/div[2]/div[2]/a/div[1]'\n",
    "    driver.find_element(By.XPATH, xpath).click()\n",
    "    time.sleep(3)\n",
    "    # 좋아요 클릭하기\n",
    "    like_xpath = '/html/body/div[2]/div/div/div[2]/div/div/div/div[1]/div[1]/div[2]/section/main/div/div[1]/div/div[2]/div/div[3]/div[1]/div[1]/span[1]/button'\n",
    "    driver.find_element(By.XPATH, like_xpath).click()\n",
    "    time.sleep(1)\n",
    "    # 댓글달기\n",
    "    comment_xpath = '/html/body/div[2]/div/div/div[2]/div/div/div/div[1]/div[1]/div[2]/section/main/div/div[1]/div/div[2]/div/section/div/form/div/textarea'\n",
    "    driver.find_element(By.XPATH, comment_xpath).click() # 한번 클릭을 해주고 나서 작성을 하는 것이 자연스러움\n",
    "    driver.find_element(By.XPATH, comment_xpath).send_keys(comment)\n",
    "    time.sleep(3)\n",
    "    # 전송버튼 클릭하기\n",
    "    send_xpath = '/html/body/div[2]/div/div/div[2]/div/div/div/div[1]/div[1]/div[2]/section/main/div/div[1]/div/div[2]/div/section/div/form/div/div[2]/div'\n",
    "    driver.find_element(By.XPATH, send_xpath).click()\n",
    "    time.sleep(3)\n",
    "        if i+1 < repeat\n",
    "        next_xpath = '/html/body/div[2]/div/div/div[3]/div/div/div[1]/div/div[3]/div/div/div/div/div[1]/div/div/div[2]/button'\n",
    "        driver.find_element(By.XPATH, next_xpath).click()\n",
    "        time.sleep(3)"
   ]
  },
  {
   "cell_type": "code",
   "execution_count": null,
   "id": "2644d32c",
   "metadata": {},
   "outputs": [],
   "source": [
    "driver = webdriver.Chrome()\n",
    "driver.implicitly_wait(3)\n",
    "\n",
    "url = 'https://www.instagram.com/'\n",
    "driver.get(url)\n",
    "\n",
    "id = 'junehee042@gmail.com'\n",
    "pw = 'ckato**1199'\n",
    "\n",
    "login(id, pw)\n",
    "time.sleep(5)\n",
    "\n",
    "hashtag = '사과'\n",
    "\n",
    "search(hashtag,3)\n",
    "time.sleep(5)\n",
    "\n",
    "like_and_comment(7, '잘 보고 갑니다', 3)"
   ]
  },
  {
   "cell_type": "code",
   "execution_count": null,
   "id": "5cf37151",
   "metadata": {},
   "outputs": [],
   "source": [
    "무료 이미지사이트 크롤링해보기\n",
    "\n",
    "사이트: https://pixabay.com/ko/ (픽사베이)"
   ]
  },
  {
   "cell_type": "code",
   "execution_count": null,
   "id": "15e75b54",
   "metadata": {},
   "outputs": [],
   "source": []
  }
 ],
 "metadata": {
  "kernelspec": {
   "display_name": "Python 3 (ipykernel)",
   "language": "python",
   "name": "python3"
  },
  "language_info": {
   "codemirror_mode": {
    "name": "ipython",
    "version": 3
   },
   "file_extension": ".py",
   "mimetype": "text/x-python",
   "name": "python",
   "nbconvert_exporter": "python",
   "pygments_lexer": "ipython3",
   "version": "3.8.0"
  }
 },
 "nbformat": 4,
 "nbformat_minor": 5
}
